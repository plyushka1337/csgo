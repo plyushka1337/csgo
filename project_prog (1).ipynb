{
 "cells": [
  {
   "cell_type": "code",
   "execution_count": 92,
   "metadata": {},
   "outputs": [],
   "source": [
    "import pandas as pd\n",
    "pd.set_option('max_columns', 300)\n",
    "import numpy as np\n",
    "import matplotlib.pyplot as plt \n",
    "import seaborn as sns \n",
    "from collections import Counter"
   ]
  },
  {
   "cell_type": "code",
   "execution_count": 93,
   "metadata": {},
   "outputs": [
    {
     "name": "stderr",
     "output_type": "stream",
     "text": [
      "C:\\programs\\anaconda\\lib\\site-packages\\IPython\\core\\interactiveshell.py:3071: DtypeWarning: Columns (2) have mixed types.Specify dtype option on import or set low_memory=False.\n",
      "  has_raised = await self.run_ast_nodes(code_ast.body, cell_name,\n"
     ]
    }
   ],
   "source": [
    "main = pd.read_csv('main.csv')\n",
    "maps = pd.read_csv('maps.csv') \n",
    "stats = pd.read_csv('stats.csv')"
   ]
  },
  {
   "cell_type": "code",
   "execution_count": 94,
   "metadata": {},
   "outputs": [
    {
     "data": {
      "text/html": [
       "<div>\n",
       "<style scoped>\n",
       "    .dataframe tbody tr th:only-of-type {\n",
       "        vertical-align: middle;\n",
       "    }\n",
       "\n",
       "    .dataframe tbody tr th {\n",
       "        vertical-align: top;\n",
       "    }\n",
       "\n",
       "    .dataframe thead th {\n",
       "        text-align: right;\n",
       "    }\n",
       "</style>\n",
       "<table border=\"1\" class=\"dataframe\">\n",
       "  <thead>\n",
       "    <tr style=\"text-align: right;\">\n",
       "      <th></th>\n",
       "      <th>Unnamed: 0</th>\n",
       "      <th>date</th>\n",
       "      <th>event</th>\n",
       "      <th>event_href</th>\n",
       "      <th>match_href</th>\n",
       "      <th>online</th>\n",
       "      <th>prizepool</th>\n",
       "      <th>result1</th>\n",
       "      <th>result2</th>\n",
       "      <th>team1</th>\n",
       "      <th>team2</th>\n",
       "      <th>time</th>\n",
       "    </tr>\n",
       "  </thead>\n",
       "  <tbody>\n",
       "    <tr>\n",
       "      <th>0</th>\n",
       "      <td>0</td>\n",
       "      <td>14th of March 2020</td>\n",
       "      <td>HardCup 6</td>\n",
       "      <td>/events/5249/hardcup-6</td>\n",
       "      <td>/matches/2340435/ethereal-vs-firenation-hardcup-6</td>\n",
       "      <td>0.0</td>\n",
       "      <td>$4,200</td>\n",
       "      <td>2</td>\n",
       "      <td>0</td>\n",
       "      <td>EthereaL</td>\n",
       "      <td>FiRENATiON</td>\n",
       "      <td>22:50</td>\n",
       "    </tr>\n",
       "    <tr>\n",
       "      <th>1</th>\n",
       "      <td>1</td>\n",
       "      <td>5th of March 2020</td>\n",
       "      <td>Flashpoint 1 Global Qualifier - Pinnacle Open</td>\n",
       "      <td>/events/5210/flashpoint-1-global-qualifier-pin...</td>\n",
       "      <td>/matches/2339808/orgless-vs-chaos-flashpoint-1...</td>\n",
       "      <td>0.0</td>\n",
       "      <td>$64,000 + 2 spots at Flashpoint 1</td>\n",
       "      <td>2</td>\n",
       "      <td>1</td>\n",
       "      <td>Orgless</td>\n",
       "      <td>Chaos</td>\n",
       "      <td>21:05</td>\n",
       "    </tr>\n",
       "    <tr>\n",
       "      <th>2</th>\n",
       "      <td>2</td>\n",
       "      <td>5th of March 2020</td>\n",
       "      <td>Flashpoint 1 Global Qualifier - Pinnacle Open</td>\n",
       "      <td>/events/5210/flashpoint-1-global-qualifier-pin...</td>\n",
       "      <td>/matches/2339809/havu-vs-big-flashpoint-1-glob...</td>\n",
       "      <td>0.0</td>\n",
       "      <td>$64,000 + 2 spots at Flashpoint 1</td>\n",
       "      <td>0</td>\n",
       "      <td>2</td>\n",
       "      <td>HAVU</td>\n",
       "      <td>BIG</td>\n",
       "      <td>18:10</td>\n",
       "    </tr>\n",
       "    <tr>\n",
       "      <th>3</th>\n",
       "      <td>3</td>\n",
       "      <td>5th of March 2020</td>\n",
       "      <td>Flashpoint 1 Global Qualifier - Pinnacle Open</td>\n",
       "      <td>/events/5210/flashpoint-1-global-qualifier-pin...</td>\n",
       "      <td>/matches/2339807/copenhagen-flames-vs-chaos-fl...</td>\n",
       "      <td>0.0</td>\n",
       "      <td>$64,000 + 2 spots at Flashpoint 1</td>\n",
       "      <td>1</td>\n",
       "      <td>2</td>\n",
       "      <td>Copenhagen Flames</td>\n",
       "      <td>Chaos</td>\n",
       "      <td>02:15</td>\n",
       "    </tr>\n",
       "    <tr>\n",
       "      <th>4</th>\n",
       "      <td>4</td>\n",
       "      <td>4th of March 2020</td>\n",
       "      <td>Flashpoint 1 Global Qualifier - Pinnacle Open</td>\n",
       "      <td>/events/5210/flashpoint-1-global-qualifier-pin...</td>\n",
       "      <td>/matches/2339806/detona-vs-big-flashpoint-1-gl...</td>\n",
       "      <td>0.0</td>\n",
       "      <td>$64,000 + 2 spots at Flashpoint 1</td>\n",
       "      <td>0</td>\n",
       "      <td>2</td>\n",
       "      <td>DETONA</td>\n",
       "      <td>BIG</td>\n",
       "      <td>23:40</td>\n",
       "    </tr>\n",
       "  </tbody>\n",
       "</table>\n",
       "</div>"
      ],
      "text/plain": [
       "   Unnamed: 0                date  \\\n",
       "0           0  14th of March 2020   \n",
       "1           1   5th of March 2020   \n",
       "2           2   5th of March 2020   \n",
       "3           3   5th of March 2020   \n",
       "4           4   4th of March 2020   \n",
       "\n",
       "                                           event  \\\n",
       "0                                      HardCup 6   \n",
       "1  Flashpoint 1 Global Qualifier - Pinnacle Open   \n",
       "2  Flashpoint 1 Global Qualifier - Pinnacle Open   \n",
       "3  Flashpoint 1 Global Qualifier - Pinnacle Open   \n",
       "4  Flashpoint 1 Global Qualifier - Pinnacle Open   \n",
       "\n",
       "                                          event_href  \\\n",
       "0                             /events/5249/hardcup-6   \n",
       "1  /events/5210/flashpoint-1-global-qualifier-pin...   \n",
       "2  /events/5210/flashpoint-1-global-qualifier-pin...   \n",
       "3  /events/5210/flashpoint-1-global-qualifier-pin...   \n",
       "4  /events/5210/flashpoint-1-global-qualifier-pin...   \n",
       "\n",
       "                                          match_href  online  \\\n",
       "0  /matches/2340435/ethereal-vs-firenation-hardcup-6     0.0   \n",
       "1  /matches/2339808/orgless-vs-chaos-flashpoint-1...     0.0   \n",
       "2  /matches/2339809/havu-vs-big-flashpoint-1-glob...     0.0   \n",
       "3  /matches/2339807/copenhagen-flames-vs-chaos-fl...     0.0   \n",
       "4  /matches/2339806/detona-vs-big-flashpoint-1-gl...     0.0   \n",
       "\n",
       "                           prizepool  result1  result2              team1  \\\n",
       "0                             $4,200        2        0           EthereaL   \n",
       "1  $64,000 + 2 spots at Flashpoint 1        2        1            Orgless   \n",
       "2  $64,000 + 2 spots at Flashpoint 1        0        2               HAVU   \n",
       "3  $64,000 + 2 spots at Flashpoint 1        1        2  Copenhagen Flames   \n",
       "4  $64,000 + 2 spots at Flashpoint 1        0        2             DETONA   \n",
       "\n",
       "        team2   time  \n",
       "0  FiRENATiON  22:50  \n",
       "1       Chaos  21:05  \n",
       "2         BIG  18:10  \n",
       "3       Chaos  02:15  \n",
       "4         BIG  23:40  "
      ]
     },
     "execution_count": 94,
     "metadata": {},
     "output_type": "execute_result"
    }
   ],
   "source": [
    "main.head()"
   ]
  },
  {
   "cell_type": "code",
   "execution_count": 95,
   "metadata": {},
   "outputs": [
    {
     "data": {
      "text/html": [
       "<div>\n",
       "<style scoped>\n",
       "    .dataframe tbody tr th:only-of-type {\n",
       "        vertical-align: middle;\n",
       "    }\n",
       "\n",
       "    .dataframe tbody tr th {\n",
       "        vertical-align: top;\n",
       "    }\n",
       "\n",
       "    .dataframe thead th {\n",
       "        text-align: right;\n",
       "    }\n",
       "</style>\n",
       "<table border=\"1\" class=\"dataframe\">\n",
       "  <thead>\n",
       "    <tr style=\"text-align: right;\">\n",
       "      <th></th>\n",
       "      <th>Unnamed: 0</th>\n",
       "      <th>half_results</th>\n",
       "      <th>map_name</th>\n",
       "      <th>match_href</th>\n",
       "      <th>pick</th>\n",
       "      <th>result1</th>\n",
       "      <th>result2</th>\n",
       "      <th>star</th>\n",
       "    </tr>\n",
       "  </thead>\n",
       "  <tbody>\n",
       "    <tr>\n",
       "      <th>0</th>\n",
       "      <td>0</td>\n",
       "      <td>-</td>\n",
       "      <td>Default</td>\n",
       "      <td>/matches/2340435/ethereal-vs-firenation-hardcup-6</td>\n",
       "      <td>dec</td>\n",
       "      <td>-</td>\n",
       "      <td>-</td>\n",
       "      <td>Best of 3 (LAN)* Grand final** Ethereal has a ...</td>\n",
       "    </tr>\n",
       "    <tr>\n",
       "      <th>1</th>\n",
       "      <td>1</td>\n",
       "      <td>(9:6, 7:1)</td>\n",
       "      <td>Train</td>\n",
       "      <td>/matches/2340435/ethereal-vs-firenation-hardcup-6</td>\n",
       "      <td>FiRENATiON</td>\n",
       "      <td>16</td>\n",
       "      <td>7</td>\n",
       "      <td>Best of 3 (LAN)* Grand final** Ethereal has a ...</td>\n",
       "    </tr>\n",
       "    <tr>\n",
       "      <th>2</th>\n",
       "      <td>2</td>\n",
       "      <td>-</td>\n",
       "      <td>Mirage</td>\n",
       "      <td>/matches/2340435/ethereal-vs-firenation-hardcup-6</td>\n",
       "      <td>EthereaL</td>\n",
       "      <td>-</td>\n",
       "      <td>-</td>\n",
       "      <td>Best of 3 (LAN)* Grand final** Ethereal has a ...</td>\n",
       "    </tr>\n",
       "    <tr>\n",
       "      <th>3</th>\n",
       "      <td>3</td>\n",
       "      <td>(13:2, 3:4)</td>\n",
       "      <td>Overpass</td>\n",
       "      <td>/matches/2339808/orgless-vs-chaos-flashpoint-1...</td>\n",
       "      <td>Chaos</td>\n",
       "      <td>16</td>\n",
       "      <td>6</td>\n",
       "      <td>Best of 3 (LAN)* Semi-final. Winner qualifies ...</td>\n",
       "    </tr>\n",
       "    <tr>\n",
       "      <th>4</th>\n",
       "      <td>4</td>\n",
       "      <td>(7:8, 5:8)</td>\n",
       "      <td>Nuke</td>\n",
       "      <td>/matches/2339808/orgless-vs-chaos-flashpoint-1...</td>\n",
       "      <td>Orgless</td>\n",
       "      <td>12</td>\n",
       "      <td>16</td>\n",
       "      <td>Best of 3 (LAN)* Semi-final. Winner qualifies ...</td>\n",
       "    </tr>\n",
       "  </tbody>\n",
       "</table>\n",
       "</div>"
      ],
      "text/plain": [
       "   Unnamed: 0 half_results  map_name  \\\n",
       "0           0            -   Default   \n",
       "1           1   (9:6, 7:1)     Train   \n",
       "2           2            -    Mirage   \n",
       "3           3  (13:2, 3:4)  Overpass   \n",
       "4           4   (7:8, 5:8)      Nuke   \n",
       "\n",
       "                                          match_href        pick result1  \\\n",
       "0  /matches/2340435/ethereal-vs-firenation-hardcup-6         dec       -   \n",
       "1  /matches/2340435/ethereal-vs-firenation-hardcup-6  FiRENATiON      16   \n",
       "2  /matches/2340435/ethereal-vs-firenation-hardcup-6    EthereaL       -   \n",
       "3  /matches/2339808/orgless-vs-chaos-flashpoint-1...       Chaos      16   \n",
       "4  /matches/2339808/orgless-vs-chaos-flashpoint-1...     Orgless      12   \n",
       "\n",
       "  result2                                               star  \n",
       "0       -  Best of 3 (LAN)* Grand final** Ethereal has a ...  \n",
       "1       7  Best of 3 (LAN)* Grand final** Ethereal has a ...  \n",
       "2       -  Best of 3 (LAN)* Grand final** Ethereal has a ...  \n",
       "3       6  Best of 3 (LAN)* Semi-final. Winner qualifies ...  \n",
       "4      16  Best of 3 (LAN)* Semi-final. Winner qualifies ...  "
      ]
     },
     "execution_count": 95,
     "metadata": {},
     "output_type": "execute_result"
    }
   ],
   "source": [
    "maps.head()"
   ]
  },
  {
   "cell_type": "code",
   "execution_count": 96,
   "metadata": {
    "scrolled": true
   },
   "outputs": [
    {
     "data": {
      "text/html": [
       "<div>\n",
       "<style scoped>\n",
       "    .dataframe tbody tr th:only-of-type {\n",
       "        vertical-align: middle;\n",
       "    }\n",
       "\n",
       "    .dataframe tbody tr th {\n",
       "        vertical-align: top;\n",
       "    }\n",
       "\n",
       "    .dataframe thead th {\n",
       "        text-align: right;\n",
       "    }\n",
       "</style>\n",
       "<table border=\"1\" class=\"dataframe\">\n",
       "  <thead>\n",
       "    <tr style=\"text-align: right;\">\n",
       "      <th></th>\n",
       "      <th>Unnamed: 0</th>\n",
       "      <th>match_href</th>\n",
       "      <th>player_adr</th>\n",
       "      <th>player_kd</th>\n",
       "      <th>player_name</th>\n",
       "      <th>player_rating</th>\n",
       "      <th>team_name</th>\n",
       "    </tr>\n",
       "  </thead>\n",
       "  <tbody>\n",
       "    <tr>\n",
       "      <th>0</th>\n",
       "      <td>0</td>\n",
       "      <td>/matches/2340435/ethereal-vs-firenation-hardcup-6</td>\n",
       "      <td>95.1</td>\n",
       "      <td>23-8</td>\n",
       "      <td>Deffo</td>\n",
       "      <td>1.63</td>\n",
       "      <td>EthereaL</td>\n",
       "    </tr>\n",
       "    <tr>\n",
       "      <th>1</th>\n",
       "      <td>1</td>\n",
       "      <td>/matches/2340435/ethereal-vs-firenation-hardcup-6</td>\n",
       "      <td>87.2</td>\n",
       "      <td>21-11</td>\n",
       "      <td>RubeN</td>\n",
       "      <td>1.49</td>\n",
       "      <td>EthereaL</td>\n",
       "    </tr>\n",
       "    <tr>\n",
       "      <th>2</th>\n",
       "      <td>2</td>\n",
       "      <td>/matches/2340435/ethereal-vs-firenation-hardcup-6</td>\n",
       "      <td>86.9</td>\n",
       "      <td>18-12</td>\n",
       "      <td>LostDF</td>\n",
       "      <td>1.47</td>\n",
       "      <td>EthereaL</td>\n",
       "    </tr>\n",
       "    <tr>\n",
       "      <th>3</th>\n",
       "      <td>3</td>\n",
       "      <td>/matches/2340435/ethereal-vs-firenation-hardcup-6</td>\n",
       "      <td>99.1</td>\n",
       "      <td>22-13</td>\n",
       "      <td>KENSI</td>\n",
       "      <td>1.45</td>\n",
       "      <td>EthereaL</td>\n",
       "    </tr>\n",
       "    <tr>\n",
       "      <th>4</th>\n",
       "      <td>4</td>\n",
       "      <td>/matches/2340435/ethereal-vs-firenation-hardcup-6</td>\n",
       "      <td>75.3</td>\n",
       "      <td>13-13</td>\n",
       "      <td>Norwi</td>\n",
       "      <td>1.02</td>\n",
       "      <td>EthereaL</td>\n",
       "    </tr>\n",
       "  </tbody>\n",
       "</table>\n",
       "</div>"
      ],
      "text/plain": [
       "   Unnamed: 0                                         match_href player_adr  \\\n",
       "0           0  /matches/2340435/ethereal-vs-firenation-hardcup-6       95.1   \n",
       "1           1  /matches/2340435/ethereal-vs-firenation-hardcup-6       87.2   \n",
       "2           2  /matches/2340435/ethereal-vs-firenation-hardcup-6       86.9   \n",
       "3           3  /matches/2340435/ethereal-vs-firenation-hardcup-6       99.1   \n",
       "4           4  /matches/2340435/ethereal-vs-firenation-hardcup-6       75.3   \n",
       "\n",
       "  player_kd player_name  player_rating team_name  \n",
       "0      23-8       Deffo           1.63  EthereaL  \n",
       "1     21-11       RubeN           1.49  EthereaL  \n",
       "2     18-12      LostDF           1.47  EthereaL  \n",
       "3     22-13       KENSI           1.45  EthereaL  \n",
       "4     13-13       Norwi           1.02  EthereaL  "
      ]
     },
     "execution_count": 96,
     "metadata": {},
     "output_type": "execute_result"
    }
   ],
   "source": [
    "stats.head()"
   ]
  },
  {
   "cell_type": "code",
   "execution_count": 97,
   "metadata": {},
   "outputs": [],
   "source": [
    "gb_rating = stats.groupby(['match_href','team_name'])['player_rating']"
   ]
  },
  {
   "cell_type": "code",
   "execution_count": 98,
   "metadata": {},
   "outputs": [
    {
     "data": {
      "text/plain": [
       "array(['$1,000', '$1,000,000', '$1,019', '$1,025', '$1,053', '$1,100',\n",
       "       '$1,130', '$1,135', '$1,150', '$1,200', '$1,250',\n",
       "       '$1,280 + 2 spots at SEA Fire Championship 2019', '$1,290',\n",
       "       '$1,300', '$1,305', '$1,330', '$1,350', '$1,400', '$1,430',\n",
       "       '$1,450', '$1,460', '$1,495', '$1,500',\n",
       "       '$1,500 + 3 spots at MDL S33 Global Challenge', '$1,625', '$1,635',\n",
       "       '$1,685', '$1,693', '$1,700', '$1,750', '$1,800', '$1,900',\n",
       "       '$1,910', '$10,000', '$10,000 + crowdfunding', '$10,003',\n",
       "       '$10,116', '$10,300', '$10,385',\n",
       "       '$10,500 + 2 spots to ESL Pro League Season 9 Americas', '$10,542',\n",
       "       '$10,711', '$10,745', '$10,847', '$100,000',\n",
       "       '$100,000 + 1 spot at DH Masters Jonkoping', '$105,000', '$11,000',\n",
       "       '$11,010', '$11,073', '$11,100', '$11,116',\n",
       "       '$11,145 + spot at Arctic Invitational', '$11,150', '$11,200',\n",
       "       '$11,265', '$11,300', '$11,335', '$11,376', '$11,400', '$11,500',\n",
       "       '$11,573', '$11,746', '$11,750', '$11,950', '$11,974', '$110,821',\n",
       "       '$112,525', '$113,000', '$115,000', '$12,000', '$12,513',\n",
       "       '$12,535', '$12,700', '$125,000', '$13,040', '$13,053', '$13,085',\n",
       "       '$13,100', '$13,250', '$13,560', '$13,711', '$13,800', '$13,944',\n",
       "       '$135,000', '$14,050', '$14,200', '$14,300', '$14,650', '$14,697',\n",
       "       '$14,750', '$14,797', '$14,915', '$140,000', '$142,500', '$15,000',\n",
       "       '$15,000 + 2 spots in UML S2', '$15,220', '$15,384', '$150,000',\n",
       "       '$16,380', '$16,423', '$16,472', '$16,500', '$16,561', '$16,700',\n",
       "       '$16,729', '$16,908', '$16,942', '$160,000', '$17,000', '$17,760',\n",
       "       '$18,000', '$18,150', '$182,500', \"$19,396 + DH Winter '19 spot\",\n",
       "       '$19,950', '$2,000', '$2,000,000', '$2,012', '$2,025', '$2,131',\n",
       "       '$2,180', '$2,220', '$2,250', '$2,300', '$2,400', '$2,500',\n",
       "       '$2,500 + 2 spots in main event',\n",
       "       '$2,500 + 3 spot at MDL Global Challenge',\n",
       "       '$2,500 + 3 spots at MDL S32 Global Challenge', '$2,515', '$2,550',\n",
       "       '$2,565', '$2,600 + 1 spot at GGL 2019', '$2,632', '$2,666',\n",
       "       '$2,700 + 1 spot at GGL 2019', '$2,720', '$2,810',\n",
       "       '$2,830 + 2 spots at the offline finals', '$2,860', '$2,943',\n",
       "       '$2,970', '$20,000', '$20,361', '$200,000', '$21,000', '$219,000',\n",
       "       '$22,000', '$22,525', '$22,709', '$22,895',\n",
       "       '$2200 + 2 spots at LAN Finals', '$225,000', '$23,289',\n",
       "       '$24,000 + 1 spot at WESG 2018 World Finals', '$25,000', '$25,800',\n",
       "       '$25,850', '$250', '$250,000', '$26,000', '$26,400', '$26,773',\n",
       "       '$26,951', '$27,000', '$27,310', '$27,500', '$27,900',\n",
       "       '$2780 + ESL SEE S10 Finals spot', '$28,000', '$29,409', '$3,000',\n",
       "       '$3,030', '$3,040', '$3,097', '$3,100', '$3,200', '$3,288',\n",
       "       '$3,300', '$3,313', '$3,333', '$3,350', '$3,480', '$3,496',\n",
       "       '$3,500', '$3,516', '$3,525', '$3,550', '$3,600', '$3,665',\n",
       "       '$3,780', '$3,840', '$3,850', '$3,855', '$3,900', '$3,917',\n",
       "       '$3,971', '$30,000', '$30,425', '$30,680', '$300,000', '$31,741',\n",
       "       '$32,450', '$325,000', '$33,500', '$331,000', '$34,100', '$35,000',\n",
       "       '$36,000', '$37,100', '$37,500', '$37,880', '$375', '$38,435',\n",
       "       '$39,000 + 1 spot at IEM Katowice EU Closed Qual.', '$4,000',\n",
       "       '$4,070', '$4,150', '$4,200', '$4,235', '$4,250', '$4,321',\n",
       "       '$4,326', '$4,330', '$4,372', '$4,375', '$4,460', '$4,464',\n",
       "       '$4,470', '$4,500', '$4,500 + 1 spot at MDL Global Challenge',\n",
       "       '$4,500 + 1 spot at MDL S32 Global Challenge', '$4,520', '$4,535',\n",
       "       '$4,550', '$4,700', '$4,742', '$4,760', '$4,800', '$4,910',\n",
       "       '$4,950', '$4,953', '$4,992', '$40,000', '$41,109', '$41,638',\n",
       "       '$425,000', '$43,176 + 1 spot at DH Winter 2020', '$44,200',\n",
       "       '$45,048', '$45,154', '$45,372', '$450,000', '$46,950', '$47,500',\n",
       "       '$5,000', '$5,000 + 1 spot at ESL One Cologne 2019',\n",
       "       '$5,000 + 1 spot at ESL One New York 2019',\n",
       "       '$5,000 + 1 spot at IEM Beijing 2019',\n",
       "       '$5,000 + 1 spot at IEM Chicago 2019',\n",
       "       '$5,000 + slot at Qi Banja Luka 2019', '$5,060', '$5,111',\n",
       "       '$5,170', '$5,200', '$5,200 + 2 spots in finals', '$5,217',\n",
       "       '$5,250', '$5,330', '$5,360', '$5,380', '$5,383', '$5,400',\n",
       "       '$5,489', '$5,500', '$5,507', '$5,521', '$5,566',\n",
       "       '$5,700 + 2 spots for LAN Finals', '$5,750', '$5,800', '$5,816',\n",
       "       '$5,885', '$5,900', '$5,907', '$5,965', '$5,967', '$50,000',\n",
       "       '$50,000 + 2 spots at IEM Katowice',\n",
       "       '$50,000 + 2 spots at StarLadder Major 2019', '$500', '$500,000',\n",
       "       '$531,000', '$55,000', '$560', '$59,500', '$6,000', '$6,061',\n",
       "       '$6,250', '$6,400', '$6,559', '$6,585', '$6,656', '$6,680',\n",
       "       '$6,705', '$6,715', '$6,750', '$6,800', '$6,935', '$60,000',\n",
       "       '$600,000', '$62,000', '$64,000 + 2 spots at Flashpoint 1',\n",
       "       '$64,100', '$676', '$690', '$7,000', '$7,117', '$7,165', '$7,170',\n",
       "       '$7,200', '$7,368', '$7,420', '$7,500', '$7,530', '$7,556',\n",
       "       '$7,598', '$7,600', '$7,679', '$7,700', '$7,745', '$70,000',\n",
       "       '$700', '$75,000', '$750', '$750 + Spot at WESG 2019 Central Asia',\n",
       "       '$8,044', '$8,125', '$8,250', '$8,560', '$8,700', '$890,000',\n",
       "       '$9,000', '$9,200', '$9,400 + eXTREMESLAND 2019 Asia Finals spot',\n",
       "       '$9,500', '$9,600', '$9,650', '$9,696', '$9,930',\n",
       "       '$9,960 + 1 spot at Moche XL Esports 2019', '$90,000', '$900',\n",
       "       '$918', '$949', '$960', '$97,845', '$975', '$990', '$994', '-',\n",
       "       '1 Spot at Charleroi Esports', '1 Spot in Closed Qualifier',\n",
       "       '1 Spot in PAL Summer 2020', '1 spot as Conquerors Insignia 2019',\n",
       "       '1 spot at BLAST Premier Spring EU Showdown',\n",
       "       '1 spot at BLAST Spring EU Showdown',\n",
       "       '1 spot at Charleroi Esports', '1 spot at DH Delhi',\n",
       "       \"1 spot at DH Open Sevilla '19\", '1 spot at DH Open Sevilla 2019',\n",
       "       '1 spot at DH Open Winter 2019', '1 spot at DHM Dallas',\n",
       "       '1 spot at DreamHack Masters Dallas 2019',\n",
       "       '1 spot at DreamHack Masters Malmö  2019',\n",
       "       '1 spot at DreamHack Masters Malmö 2019',\n",
       "       '1 spot at DreamHack Open Anaheim',\n",
       "       '1 spot at DreamHack Open Leipzig',\n",
       "       '1 spot at DreamHack Open Rotterdam 2019',\n",
       "       '1 spot at DreamHack Open Summer',\n",
       "       '1 spot at DreamHack Open Summer 2020 Europe Closed Qualifier',\n",
       "       '1 spot at DreamHack Open Tours',\n",
       "       '1 spot at DreamHack Open Winter 2019',\n",
       "       '1 spot at EPL S9 Asia Relegation', '1 spot at ESL AU&NZ Season 8',\n",
       "       '1 spot at ESL One Cologne',\n",
       "       '1 spot at ESL One Cologne 2020 Closed Qualifier',\n",
       "       '1 spot at ESL One New York 2019',\n",
       "       '1 spot at ESL One: Road to Rio - South America',\n",
       "       '1 spot at ESL Pro League Season 12',\n",
       "       '1 spot at GG.BET Beijing Invitational',\n",
       "       '1 spot at GG.BET New York Invitational',\n",
       "       '1 spot at Games Clash Masters 2019',\n",
       "       '1 spot at Good Game League 2019',\n",
       "       '1 spot at Home Sweet Home Cup 5',\n",
       "       '1 spot at Home Sweet Home Cup 6',\n",
       "       '1 spot at Home Sweet Home Cup 7',\n",
       "       '1 spot at Home Sweet Home Cup 8', '1 spot at IEM Beijing 2019',\n",
       "       '1 spot at IEM Beijing-Haidian 2020 Asia',\n",
       "       '1 spot at IEM Beijing-Haidian 2020 Oceania',\n",
       "       '1 spot at IEM Chicago 2019', '1 spot at IEM Katowice 2020',\n",
       "       '1 spot at IEM Sydney', '1 spot at IEM Sydney 2019',\n",
       "       '1 spot at LA L', '1 spot at LAN', '1 spot at LAN + $1305',\n",
       "       '1 spot at LAN Finals', '1 spot at LOOT.BET S1',\n",
       "       '1 spot at LOOT.BET Season 6', '1 spot at Minor',\n",
       "       '1 spot at NEST PRO Series 2019',\n",
       "       '1 spot at OMEN Atlantic Challenge 2019',\n",
       "       '1 spot at OMEN Challenger Series 2019', '1 spot at StarSeries S8',\n",
       "       '1 spot at WESG 2018 Final', '1 spot at WESG 2019',\n",
       "       '1 spot at WESG 2019 APAC Finals',\n",
       "       '1 spot at WESG 2019 Central Asia',\n",
       "       '1 spot at WESG 2019 Greater China', '1 spot at WESG 2019 Russia',\n",
       "       '1 spot at eXTREMESLAND 2019 Asia Finals',\n",
       "       '1 spot at eXTREMESLAND South Asia Regional Finals',\n",
       "       '1 spot in BLAST Premier Fall 2020 Showdown', '1 spot in CAC 2019',\n",
       "       '1 spot in DH Open December 2020',\n",
       "       '1 spot in DH Open November 2020', '1 spot in DH Winter 2020 Asia',\n",
       "       '1 spot in DH Winter 2020 Oceania', '1 spot in EPICENTER 2019',\n",
       "       '1 spot in EPL S10', '1 spot in ESL AUNZ S11',\n",
       "       '1 spot in ESL Pro League Season 10',\n",
       "       '1 spot in ESL Pro League Season 11', '1 spot in Finals',\n",
       "       '1 spot in LOOT.BET Season 7', '1 spot in Main Event',\n",
       "       '1 spot in Regional Finals', '1 spot in Vulkan Fight Series 2020',\n",
       "       '1 spot to Brasileirão Season 2', '1 spot to Dreamhack Rio',\n",
       "       '1 spot to EPL S10 Americas',\n",
       "       '1 spot to ESL Pro League Season 9 Americas', '1 spot to Finals',\n",
       "       '1 spot to LA League S5 Finals', '1 spot to LAN Finals',\n",
       "       '1 spot to Regional Finals',\n",
       "       '2 Spots at GameForce Masters 2019 Finals + $3372',\n",
       "       '2 Spots at Kayzr League Spring 2019 Finals + $840',\n",
       "       '2 spot in ESL AUNZ S11', '2 spots at A1 Adria S4 Finals',\n",
       "       '2 spots at BLAST Premier Fall Europe Showdown',\n",
       "       '2 spots at BLAST Pro Series Moscow 2019 CIS Play-In',\n",
       "       '2 spots at BLAST Spring EU Showdown',\n",
       "       '2 spots at CLUTCH Season 3', '2 spots at Closed Qualifier',\n",
       "       '2 spots at DHM Dallas',\n",
       "       '2 spots at DreamHack Masters Spring 2020 - Asia',\n",
       "       '2 spots at DreamHack Masters Spring 2020 - Europe',\n",
       "       '2 spots at DreamHack Masters Spring 2020 - North America',\n",
       "       '2 spots at DreamHack Masters Spring 2020 - Oceania',\n",
       "       '2 spots at DreamHack Open Anaheim',\n",
       "       '2 spots at DreamHack Open Atlanta 2019',\n",
       "       '2 spots at DreamHack Open Leipzig', '2 spots at ESL One Cologne',\n",
       "       '2 spots at ESL One: Road to Rio - Asia',\n",
       "       '2 spots at ESL One: Road to Rio - CIS',\n",
       "       '2 spots at ESL Pro League Season 12',\n",
       "       '2 spots at Flashpoint 1 Global Qualifier',\n",
       "       '2 spots at IEM Beijing Asia Closed Qualifier',\n",
       "       '2 spots at IEM Beijing Greater China Closed Qualifier',\n",
       "       '2 spots at IEM Beijing-Haidian 2020 Europe',\n",
       "       '2 spots at IEM Beijing-Haidian 2020 North America',\n",
       "       '2 spots at IEM Katowice 2019',\n",
       "       '2 spots at IEM New York 2020 Europe',\n",
       "       '2 spots at Kazakhstan Regional Finals', '2 spots at LAN Finals',\n",
       "       '2 spots at LAN finals', '2 spots at LAN finals + $1,300',\n",
       "       '2 spots at LOOT.BET Season 3', '2 spots at LOOT.BET Season 4',\n",
       "       '2 spots at LOOT.BET Season 5', '2 spots at Minor',\n",
       "       '2 spots at OMEN Challenger Series 2019', '2 spots at Play-in',\n",
       "       '2 spots at StarSeries i-League Season 8', '2 spots at WESG 2019',\n",
       "       '2 spots at WESG 2019 APAC Finals',\n",
       "       '2 spots at WX Invitational Winter 2020',\n",
       "       '2 spots at Winstrike Summer CS:GO Cup Finals + $150',\n",
       "       '2 spots at offline finals', '2 spots at offline finals + $1,300',\n",
       "       '2 spots for Tribo to Major', '2 spots in Americas Minor',\n",
       "       '2 spots in Closed Qualifier',\n",
       "       '2 spots in DH Winter 2020 North America',\n",
       "       '2 spots in DHM Winter 2020 Europe',\n",
       "       '2 spots in DreamHack Showdown',\n",
       "       '2 spots in ECS S7 EU Challenger Cup',\n",
       "       '2 spots in ECS S7 NA Challenger Cup',\n",
       "       '2 spots in ECS S8 EU Pinnacle Cup',\n",
       "       '2 spots in ECS S8 NA Pinnacle Cup', '2 spots in EDC 1',\n",
       "       '2 spots in EPL APAC S10', '2 spots in EPL S10',\n",
       "       '2 spots in EPL S9 China', '2 spots in ESL AUNZ S10',\n",
       "       '2 spots in ESL AUNZ S11', '2 spots in Flashpoint 2',\n",
       "       '2 spots in Geeks Gone Wild #24', '2 spots in LOOT.BET Season 2',\n",
       "       '2 spots in LOOT.BET Season 8', '2 spots in LPL Pro Finals',\n",
       "       '2 spots in Main Event', '2 spots in PAL Fall 2020',\n",
       "       '2 spots in POL Fall 2020', '2 spots in Season 9',\n",
       "       '2 spots in main event + $2,500',\n",
       "       '2 spots in the Closed Qualifier',\n",
       "       '2 spots in the closed qualifier', '2 spots to Closed Qualifier',\n",
       "       '2 spots to Finals', '2 spots to GC Masters V',\n",
       "       '2 spots to LAN Finals',\n",
       "       '2 spots to eXTREMESLAND 2019 Asia Finals',\n",
       "       '2 spots to eXTREMESLAND 2019 China Regional Finals',\n",
       "       '2 spots to the Americas Minor', '3 spots at IEM Katowice 2020',\n",
       "       '3 spots at StarLadder Major 2019', '3 spots in Closed Qualifier',\n",
       "       '3 spots in EPICENTER 2019 CIS Closed Qualifier',\n",
       "       '3 spots in EPL S9 SEA', '3 spots in ESEA MDL S35',\n",
       "       '3 spots in PAL Fall 2020', '3 spots in WePlay! Clutch Island',\n",
       "       '3 spots in cs_summit 6 North America',\n",
       "       '3 spots in cs_summit 6 North America Regional Qualifier',\n",
       "       '4 Spots at LAN Finals + $14000', '4 spots at Closed Qualifier',\n",
       "       '4 spots at IEM New York 2020 North America',\n",
       "       '4 spots at LAN Finals', '4 spots at LAN Finals + $53,500',\n",
       "       '4 spots at MDL Global Challenge',\n",
       "       '4 spots at MDL S32 Global Challenge',\n",
       "       '4 spots in Closed Qualifier', '4 spots in ESEA MDL S36',\n",
       "       '4 spots in Gamers Club Masters VI', '4 spots in LPL Pro League',\n",
       "       '4 spots in MDL S31 Relegation', '4 spots in MDL S32',\n",
       "       '4 spots in MDL S32 Relegation', '4 spots in MDL S33',\n",
       "       '4 spots in MDL S34', '4 spots in MDL S34 EU Relegation',\n",
       "       '4 spots in MDL S35', '4 spots in MDL S35 EU Relegation',\n",
       "       '4 spots in MDL Season 31', '4 spots in Main Tournament',\n",
       "       '4 spots in closed qualifier', '4 spots in the Closed Qualifier',\n",
       "       '4 spots in the closed qualifier', '4 spots to Closed Qualifier',\n",
       "       '4 spots to WESG Brazil', '5 spots at Closed Qualifier',\n",
       "       '5 spots at DreamHack Open Fall 2020',\n",
       "       '5 spots at IEM New York 2020 CIS', '5 spots in MDL S34',\n",
       "       '5 spots in cs_summit 6 Europe',\n",
       "       '5 spots in cs_summit 6 Europe Regional Qualifier',\n",
       "       '6 spots in Americas Minor', '6 spots in Closed Qualifier',\n",
       "       '6 spots in MDL S34', '6 spots in MDL Season 30',\n",
       "       '6 spots to S8 LAN Finals', '6 spots to the Americas Minor',\n",
       "       '8 spots at IEM Katowice', '8 spots at Minor',\n",
       "       '8 spots at StarLadder Major 2019', '8 spots at the CIS Minor',\n",
       "       '8 spots at the Europe Minor', '8 spots at the LAN finals',\n",
       "       '8 spots in Closed Qualifier', '8 spots in Nine to Five 1',\n",
       "       '8 spots in Nine to Five 2', '8 spots in Nine to Five 3',\n",
       "       '8 spots in Nine to Five 4', '8 spots in Nine to Five 5',\n",
       "       '8 spots in Nine to Five 6', '8 spots in Nine to Five 7',\n",
       "       'Seeding', 'Spot at Charleroi Esports',\n",
       "       'Spot at GG.BET Chicago Invitational', 'TBA',\n",
       "       'WESG 2019 Global Finals spot', 'spot at Elisa Invitational 2'],\n",
       "      dtype=object)"
      ]
     },
     "execution_count": 98,
     "metadata": {},
     "output_type": "execute_result"
    }
   ],
   "source": [
    "np.unique(main.prizepool)"
   ]
  },
  {
   "cell_type": "code",
   "execution_count": 99,
   "metadata": {},
   "outputs": [],
   "source": [
    "prize = []\n",
    "for i in range(len(main)):\n",
    "    prize.append(main['prizepool'][i].split(' ')[0])"
   ]
  },
  {
   "cell_type": "code",
   "execution_count": 100,
   "metadata": {},
   "outputs": [],
   "source": [
    "prize = pd.Series(prize).apply(lambda x: 0 if '$' not in x else x)"
   ]
  },
  {
   "cell_type": "code",
   "execution_count": 101,
   "metadata": {},
   "outputs": [],
   "source": [
    "main['prizepool'] = prize.apply(lambda x : str(x).replace('$','').replace(',',''))"
   ]
  },
  {
   "cell_type": "code",
   "execution_count": 102,
   "metadata": {},
   "outputs": [
    {
     "data": {
      "text/plain": [
       "(35103, 8)"
      ]
     },
     "execution_count": 102,
     "metadata": {},
     "output_type": "execute_result"
    }
   ],
   "source": [
    "maps.shape"
   ]
  },
  {
   "cell_type": "code",
   "execution_count": 103,
   "metadata": {},
   "outputs": [],
   "source": [
    "maps['result1'] = maps['result1'].apply(lambda x : str(x).replace('-','-1'))\n",
    "maps['result2'] = maps['result2'].apply(lambda x : str(x).replace('-','-1'))\n",
    "maps = maps[(maps['result1'] != '-1')|(maps['result2'] != '-1')]"
   ]
  },
  {
   "cell_type": "code",
   "execution_count": 104,
   "metadata": {},
   "outputs": [],
   "source": [
    "maps.reset_index(drop = True, inplace = True)"
   ]
  },
  {
   "cell_type": "code",
   "execution_count": 105,
   "metadata": {},
   "outputs": [],
   "source": [
    "def month_to_number(month):\n",
    "    if month == 'January':\n",
    "        return '01'\n",
    "    elif month == 'February':\n",
    "        return '02'\n",
    "    elif month == 'March':\n",
    "        return '03'\n",
    "    elif month == 'April':\n",
    "        return '04'\n",
    "    elif month == 'May':\n",
    "        return '05'\n",
    "    elif month == 'June':\n",
    "        return '06'\n",
    "    elif month == 'July':\n",
    "        return '07'\n",
    "    elif month == 'August':\n",
    "        return '08'\n",
    "    elif month == 'September':\n",
    "        return '09'\n",
    "    elif month == 'October':\n",
    "        return '10'\n",
    "    elif month == 'November':\n",
    "        return '11'\n",
    "    elif month == 'December':\n",
    "        return '3'\n",
    "    else:\n",
    "        raise ValueError('Inadequate month format')\n",
    "\n",
    "def date_trans(date):\n",
    "    date = date.split()\n",
    "    day = date[0][:-2]\n",
    "    if len(day) == 1:\n",
    "        day = '0' + day\n",
    "    elif len(day) == 2:\n",
    "        pass\n",
    "    else:\n",
    "        raise ValueError('Inadequate day format')\n",
    "    month = month_to_number(date[2])\n",
    "    year = date[3]\n",
    "    return f'{day}-{month}-{year}'\n",
    "\n",
    "main.date = main.date.apply(date_trans)"
   ]
  },
  {
   "cell_type": "code",
   "execution_count": 106,
   "metadata": {},
   "outputs": [
    {
     "data": {
      "text/plain": [
       "Unnamed: 0             int64\n",
       "date          datetime64[ns]\n",
       "event                 object\n",
       "event_href            object\n",
       "match_href            object\n",
       "online               float64\n",
       "prizepool             object\n",
       "result1                int64\n",
       "result2                int64\n",
       "team1                 object\n",
       "team2                 object\n",
       "time                  object\n",
       "dtype: object"
      ]
     },
     "execution_count": 106,
     "metadata": {},
     "output_type": "execute_result"
    }
   ],
   "source": [
    "from datetime import datetime as dt\n",
    "main.date = main.date.apply(lambda x: dt.strptime(x, '%d-%m-%Y'))\n",
    "main.dtypes"
   ]
  },
  {
   "cell_type": "code",
   "execution_count": 107,
   "metadata": {},
   "outputs": [],
   "source": [
    "main['prizepool'] = main['prizepool'].astype(int)"
   ]
  },
  {
   "cell_type": "code",
   "execution_count": null,
   "metadata": {},
   "outputs": [],
   "source": []
  },
  {
   "cell_type": "code",
   "execution_count": 108,
   "metadata": {},
   "outputs": [],
   "source": [
    "del maps['Unnamed: 0']\n",
    "del main['Unnamed: 0']\n",
    "del stats['Unnamed: 0']"
   ]
  },
  {
   "cell_type": "code",
   "execution_count": 212,
   "metadata": {},
   "outputs": [],
   "source": [
    "df = pd.merge(maps, right = main, how = 'left', left_on = 'match_href', right_on = 'match_href')"
   ]
  },
  {
   "cell_type": "code",
   "execution_count": 213,
   "metadata": {},
   "outputs": [
    {
     "data": {
      "text/plain": [
       "half_results    61\n",
       "map_name         0\n",
       "match_href       0\n",
       "pick             0\n",
       "result1_x        0\n",
       "result2_x        0\n",
       "star             0\n",
       "date             0\n",
       "event            0\n",
       "event_href       0\n",
       "online           0\n",
       "prizepool        0\n",
       "result1_y        0\n",
       "result2_y        0\n",
       "team1            0\n",
       "team2            0\n",
       "time             0\n",
       "dtype: int64"
      ]
     },
     "execution_count": 213,
     "metadata": {},
     "output_type": "execute_result"
    }
   ],
   "source": [
    "df.isnull().sum()"
   ]
  },
  {
   "cell_type": "code",
   "execution_count": 214,
   "metadata": {},
   "outputs": [],
   "source": [
    "df.fillna(0, inplace = True)"
   ]
  },
  {
   "cell_type": "code",
   "execution_count": 215,
   "metadata": {},
   "outputs": [
    {
     "data": {
      "text/plain": [
       "1389"
      ]
     },
     "execution_count": 215,
     "metadata": {},
     "output_type": "execute_result"
    }
   ],
   "source": [
    "len(np.unique(df['team2']))"
   ]
  },
  {
   "cell_type": "code",
   "execution_count": 216,
   "metadata": {},
   "outputs": [],
   "source": [
    "c = Counter(df['pick'])"
   ]
  },
  {
   "cell_type": "code",
   "execution_count": 217,
   "metadata": {},
   "outputs": [
    {
     "data": {
      "text/plain": [
       "<matplotlib.axes._subplots.AxesSubplot at 0x21984b0a880>"
      ]
     },
     "execution_count": 217,
     "metadata": {},
     "output_type": "execute_result"
    },
    {
     "data": {
      "image/png": "[encoded data removed]",
      "text/plain": [
       "<Figure size 432x288 with 1 Axes>"
      ]
     },
     "metadata": {},
     "output_type": "display_data"
    }
   ],
   "source": [
    "sns.distplot([x for x in tuple(c.values()) if x < 50])"
   ]
  },
  {
   "cell_type": "code",
   "execution_count": 218,
   "metadata": {},
   "outputs": [],
   "source": [
    "teams = pd.DataFrame()\n",
    "teams['keys'] = c.keys()\n",
    "teams['values'] = c.values()"
   ]
  },
  {
   "cell_type": "code",
   "execution_count": 219,
   "metadata": {},
   "outputs": [],
   "source": [
    "df = pd.merge(df, right = teams, how = 'left', left_on = 'team1', right_on = 'keys' )"
   ]
  },
  {
   "cell_type": "code",
   "execution_count": 220,
   "metadata": {},
   "outputs": [],
   "source": [
    "df = df[df['values'] > 20].reset_index(drop = True)"
   ]
  },
  {
   "cell_type": "code",
   "execution_count": 221,
   "metadata": {},
   "outputs": [],
   "source": [
    "df['win'] = df['result1_x'].apply(lambda x : 1 if x == '16' else 0)"
   ]
  },
  {
   "cell_type": "code",
   "execution_count": 222,
   "metadata": {},
   "outputs": [],
   "source": [
    "df['map_pick'] = (df['pick'] == df['team1']).astype(int)"
   ]
  },
  {
   "cell_type": "code",
   "execution_count": 223,
   "metadata": {},
   "outputs": [],
   "source": [
    "df['prizepool'] = df['prizepool'].astype(int)\n",
    "tier = df.groupby('pick').prizepool.mean().reset_index()\n",
    "df = pd.merge(df, right = tier, how = 'left', left_on = 'team1', right_on = 'pick')\n",
    "df = pd.merge(df, right = tier, how = 'left', left_on = 'team2', right_on = 'pick')"
   ]
  },
  {
   "cell_type": "code",
   "execution_count": 224,
   "metadata": {},
   "outputs": [],
   "source": [
    "df = df.sort_values(by='date')"
   ]
  },
  {
   "cell_type": "code",
   "execution_count": 225,
   "metadata": {},
   "outputs": [],
   "source": [
    "dat = df.groupby(['date', 'team1', 'map_name']).win.agg(['sum', 'count'])\n",
    "dat = dat.unstack().unstack().rolling(180, min_periods=8).sum().stack().stack()\n",
    "dat['win_rate_1'] = dat['sum'] / dat['count']\n",
    "del dat['count']\n",
    "del dat['sum']\n",
    "dat = dat.reset_index()\n",
    "\n",
    "df = df.merge(dat, on=['date', 'team1', 'map_name'], how='left')\n",
    "\n",
    "dat = df.groupby(['date', 'team2', 'map_name']).win.agg(['sum', 'count'])\n",
    "dat = dat.unstack().unstack().rolling(180, min_periods=8).sum().stack().stack()\n",
    "dat['win_rate_2'] = 1 - dat['sum'] / dat['count']\n",
    "del dat['count']\n",
    "del dat['sum']\n",
    "dat = dat.reset_index()\n",
    "\n",
    "df = df.merge(dat, on=['date', 'team2', 'map_name'], how='left')"
   ]
  },
  {
   "cell_type": "code",
   "execution_count": 226,
   "metadata": {},
   "outputs": [
    {
     "name": "stderr",
     "output_type": "stream",
     "text": [
      "C:\\programs\\anaconda\\lib\\site-packages\\IPython\\core\\interactiveshell.py:3071: DtypeWarning: Columns (2) have mixed types.Specify dtype option on import or set low_memory=False.\n",
      "  has_raised = await self.run_ast_nodes(code_ast.body, cell_name,\n"
     ]
    }
   ],
   "source": [
    "stats = pd.read_csv('stats.csv')\n",
    "del stats['Unnamed: 0']\n",
    "stats['player_rating'] = stats['player_rating'].astype(float)"
   ]
  },
  {
   "cell_type": "code",
   "execution_count": 227,
   "metadata": {},
   "outputs": [],
   "source": [
    "stats = stats.merge(df[['match_href', 'date']], on='match_href')"
   ]
  },
  {
   "cell_type": "code",
   "execution_count": 228,
   "metadata": {},
   "outputs": [
    {
     "data": {
      "text/html": [
       "<div>\n",
       "<style scoped>\n",
       "    .dataframe tbody tr th:only-of-type {\n",
       "        vertical-align: middle;\n",
       "    }\n",
       "\n",
       "    .dataframe tbody tr th {\n",
       "        vertical-align: top;\n",
       "    }\n",
       "\n",
       "    .dataframe thead th {\n",
       "        text-align: right;\n",
       "    }\n",
       "</style>\n",
       "<table border=\"1\" class=\"dataframe\">\n",
       "  <thead>\n",
       "    <tr style=\"text-align: right;\">\n",
       "      <th></th>\n",
       "      <th>match_href</th>\n",
       "      <th>player_adr</th>\n",
       "      <th>player_kd</th>\n",
       "      <th>player_name</th>\n",
       "      <th>player_rating</th>\n",
       "      <th>team_name</th>\n",
       "      <th>date</th>\n",
       "    </tr>\n",
       "  </thead>\n",
       "  <tbody>\n",
       "    <tr>\n",
       "      <th>515727</th>\n",
       "      <td>/matches/2330141/pact-vs-x-kom-pixelbet-brawl-...</td>\n",
       "      <td>37.1</td>\n",
       "      <td>10-11</td>\n",
       "      <td>oskarish</td>\n",
       "      <td>0.85</td>\n",
       "      <td>x-kom</td>\n",
       "      <td>2019-01-04</td>\n",
       "    </tr>\n",
       "    <tr>\n",
       "      <th>515700</th>\n",
       "      <td>/matches/2330141/pact-vs-x-kom-pixelbet-brawl-...</td>\n",
       "      <td>74.7</td>\n",
       "      <td>23-15</td>\n",
       "      <td>Goofy</td>\n",
       "      <td>1.34</td>\n",
       "      <td>x-kom</td>\n",
       "      <td>2019-01-04</td>\n",
       "    </tr>\n",
       "    <tr>\n",
       "      <th>515701</th>\n",
       "      <td>/matches/2330141/pact-vs-x-kom-pixelbet-brawl-...</td>\n",
       "      <td>78.8</td>\n",
       "      <td>18-17</td>\n",
       "      <td>oskarish</td>\n",
       "      <td>1.20</td>\n",
       "      <td>x-kom</td>\n",
       "      <td>2019-01-04</td>\n",
       "    </tr>\n",
       "    <tr>\n",
       "      <th>515702</th>\n",
       "      <td>/matches/2330141/pact-vs-x-kom-pixelbet-brawl-...</td>\n",
       "      <td>78.8</td>\n",
       "      <td>18-17</td>\n",
       "      <td>oskarish</td>\n",
       "      <td>1.20</td>\n",
       "      <td>x-kom</td>\n",
       "      <td>2019-01-04</td>\n",
       "    </tr>\n",
       "    <tr>\n",
       "      <th>515703</th>\n",
       "      <td>/matches/2330141/pact-vs-x-kom-pixelbet-brawl-...</td>\n",
       "      <td>56.8</td>\n",
       "      <td>19-15</td>\n",
       "      <td>jedqr</td>\n",
       "      <td>1.09</td>\n",
       "      <td>x-kom</td>\n",
       "      <td>2019-01-04</td>\n",
       "    </tr>\n",
       "  </tbody>\n",
       "</table>\n",
       "</div>"
      ],
      "text/plain": [
       "                                               match_href player_adr  \\\n",
       "515727  /matches/2330141/pact-vs-x-kom-pixelbet-brawl-...       37.1   \n",
       "515700  /matches/2330141/pact-vs-x-kom-pixelbet-brawl-...       74.7   \n",
       "515701  /matches/2330141/pact-vs-x-kom-pixelbet-brawl-...       78.8   \n",
       "515702  /matches/2330141/pact-vs-x-kom-pixelbet-brawl-...       78.8   \n",
       "515703  /matches/2330141/pact-vs-x-kom-pixelbet-brawl-...       56.8   \n",
       "\n",
       "       player_kd player_name  player_rating team_name       date  \n",
       "515727     10-11    oskarish           0.85     x-kom 2019-01-04  \n",
       "515700     23-15       Goofy           1.34     x-kom 2019-01-04  \n",
       "515701     18-17    oskarish           1.20     x-kom 2019-01-04  \n",
       "515702     18-17    oskarish           1.20     x-kom 2019-01-04  \n",
       "515703     19-15       jedqr           1.09     x-kom 2019-01-04  "
      ]
     },
     "execution_count": 228,
     "metadata": {},
     "output_type": "execute_result"
    }
   ],
   "source": [
    "stats = stats.sort_values(by='date')\n",
    "stats.head()"
   ]
  },
  {
   "cell_type": "code",
   "execution_count": 229,
   "metadata": {},
   "outputs": [
    {
     "data": {
      "text/html": [
       "<div>\n",
       "<style scoped>\n",
       "    .dataframe tbody tr th:only-of-type {\n",
       "        vertical-align: middle;\n",
       "    }\n",
       "\n",
       "    .dataframe tbody tr th {\n",
       "        vertical-align: top;\n",
       "    }\n",
       "\n",
       "    .dataframe thead th {\n",
       "        text-align: right;\n",
       "    }\n",
       "</style>\n",
       "<table border=\"1\" class=\"dataframe\">\n",
       "  <thead>\n",
       "    <tr style=\"text-align: right;\">\n",
       "      <th></th>\n",
       "      <th>half_results</th>\n",
       "      <th>map_name</th>\n",
       "      <th>match_href</th>\n",
       "      <th>pick_x</th>\n",
       "      <th>result1_x</th>\n",
       "      <th>result2_x</th>\n",
       "      <th>star</th>\n",
       "      <th>date</th>\n",
       "      <th>event</th>\n",
       "      <th>event_href</th>\n",
       "      <th>online</th>\n",
       "      <th>prizepool_x</th>\n",
       "      <th>result1_y</th>\n",
       "      <th>result2_y</th>\n",
       "      <th>team1</th>\n",
       "      <th>team2</th>\n",
       "      <th>time</th>\n",
       "      <th>keys</th>\n",
       "      <th>values</th>\n",
       "      <th>win</th>\n",
       "      <th>map_pick</th>\n",
       "      <th>pick_y</th>\n",
       "      <th>prizepool_y</th>\n",
       "      <th>pick</th>\n",
       "      <th>prizepool</th>\n",
       "      <th>win_rate_1</th>\n",
       "      <th>win_rate_2</th>\n",
       "      <th>avg_player_rating_x</th>\n",
       "      <th>avg_player_rating_y</th>\n",
       "    </tr>\n",
       "  </thead>\n",
       "  <tbody>\n",
       "    <tr>\n",
       "      <th>0</th>\n",
       "      <td>(5:10, 6:6)</td>\n",
       "      <td>Inferno</td>\n",
       "      <td>/matches/2330141/pact-vs-x-kom-pixelbet-brawl-...</td>\n",
       "      <td>x-kom</td>\n",
       "      <td>11</td>\n",
       "      <td>16</td>\n",
       "      <td>Best of 3* Group B decider match</td>\n",
       "      <td>2019-01-04</td>\n",
       "      <td>Pixel.bet Brawl: Nordic vs. Europe</td>\n",
       "      <td>/events/4273/pixelbet-brawl-nordic-vs-europe</td>\n",
       "      <td>1.0</td>\n",
       "      <td>10000</td>\n",
       "      <td>0</td>\n",
       "      <td>2</td>\n",
       "      <td>PACT</td>\n",
       "      <td>x-kom</td>\n",
       "      <td>17:00</td>\n",
       "      <td>PACT</td>\n",
       "      <td>137.0</td>\n",
       "      <td>0</td>\n",
       "      <td>0</td>\n",
       "      <td>PACT</td>\n",
       "      <td>19562.947368</td>\n",
       "      <td>x-kom</td>\n",
       "      <td>17511.403509</td>\n",
       "      <td>NaN</td>\n",
       "      <td>NaN</td>\n",
       "      <td>0.882667</td>\n",
       "      <td>1.186000</td>\n",
       "    </tr>\n",
       "    <tr>\n",
       "      <th>1</th>\n",
       "      <td>(4:11, 5:5)</td>\n",
       "      <td>Mirage</td>\n",
       "      <td>/matches/2330141/pact-vs-x-kom-pixelbet-brawl-...</td>\n",
       "      <td>PACT</td>\n",
       "      <td>9</td>\n",
       "      <td>16</td>\n",
       "      <td>Best of 3* Group B decider match</td>\n",
       "      <td>2019-01-04</td>\n",
       "      <td>Pixel.bet Brawl: Nordic vs. Europe</td>\n",
       "      <td>/events/4273/pixelbet-brawl-nordic-vs-europe</td>\n",
       "      <td>1.0</td>\n",
       "      <td>10000</td>\n",
       "      <td>0</td>\n",
       "      <td>2</td>\n",
       "      <td>PACT</td>\n",
       "      <td>x-kom</td>\n",
       "      <td>17:00</td>\n",
       "      <td>PACT</td>\n",
       "      <td>137.0</td>\n",
       "      <td>0</td>\n",
       "      <td>1</td>\n",
       "      <td>PACT</td>\n",
       "      <td>19562.947368</td>\n",
       "      <td>x-kom</td>\n",
       "      <td>17511.403509</td>\n",
       "      <td>NaN</td>\n",
       "      <td>NaN</td>\n",
       "      <td>0.882667</td>\n",
       "      <td>1.186000</td>\n",
       "    </tr>\n",
       "    <tr>\n",
       "      <th>2</th>\n",
       "      <td>(3:12, 11:4)</td>\n",
       "      <td>Overpass</td>\n",
       "      <td>/matches/2330164/london-vs-endpoint-esl-premie...</td>\n",
       "      <td>Endpoint</td>\n",
       "      <td>14</td>\n",
       "      <td>16</td>\n",
       "      <td>Best of 3 (LAN)* Grand final</td>\n",
       "      <td>2019-01-05</td>\n",
       "      <td>ESL Premiership Winter 2018 Finals</td>\n",
       "      <td>/events/4343/esl-premiership-winter-2018-finals</td>\n",
       "      <td>0.0</td>\n",
       "      <td>12700</td>\n",
       "      <td>2</td>\n",
       "      <td>1</td>\n",
       "      <td>London</td>\n",
       "      <td>Endpoint</td>\n",
       "      <td>19:20</td>\n",
       "      <td>London</td>\n",
       "      <td>22.0</td>\n",
       "      <td>0</td>\n",
       "      <td>0</td>\n",
       "      <td>London</td>\n",
       "      <td>6506.176471</td>\n",
       "      <td>Endpoint</td>\n",
       "      <td>26191.448819</td>\n",
       "      <td>NaN</td>\n",
       "      <td>NaN</td>\n",
       "      <td>1.232000</td>\n",
       "      <td>1.056889</td>\n",
       "    </tr>\n",
       "    <tr>\n",
       "      <th>3</th>\n",
       "      <td>(9:6, 7:2)</td>\n",
       "      <td>Inferno</td>\n",
       "      <td>/matches/2330164/london-vs-endpoint-esl-premie...</td>\n",
       "      <td>London</td>\n",
       "      <td>16</td>\n",
       "      <td>8</td>\n",
       "      <td>Best of 3 (LAN)* Grand final</td>\n",
       "      <td>2019-01-05</td>\n",
       "      <td>ESL Premiership Winter 2018 Finals</td>\n",
       "      <td>/events/4343/esl-premiership-winter-2018-finals</td>\n",
       "      <td>0.0</td>\n",
       "      <td>12700</td>\n",
       "      <td>2</td>\n",
       "      <td>1</td>\n",
       "      <td>London</td>\n",
       "      <td>Endpoint</td>\n",
       "      <td>19:20</td>\n",
       "      <td>London</td>\n",
       "      <td>22.0</td>\n",
       "      <td>1</td>\n",
       "      <td>1</td>\n",
       "      <td>London</td>\n",
       "      <td>6506.176471</td>\n",
       "      <td>Endpoint</td>\n",
       "      <td>26191.448819</td>\n",
       "      <td>NaN</td>\n",
       "      <td>NaN</td>\n",
       "      <td>1.232000</td>\n",
       "      <td>1.056889</td>\n",
       "    </tr>\n",
       "    <tr>\n",
       "      <th>4</th>\n",
       "      <td>(13:2, 3:5)</td>\n",
       "      <td>Mirage</td>\n",
       "      <td>/matches/2330164/london-vs-endpoint-esl-premie...</td>\n",
       "      <td>dec</td>\n",
       "      <td>16</td>\n",
       "      <td>7</td>\n",
       "      <td>Best of 3 (LAN)* Grand final</td>\n",
       "      <td>2019-01-05</td>\n",
       "      <td>ESL Premiership Winter 2018 Finals</td>\n",
       "      <td>/events/4343/esl-premiership-winter-2018-finals</td>\n",
       "      <td>0.0</td>\n",
       "      <td>12700</td>\n",
       "      <td>2</td>\n",
       "      <td>1</td>\n",
       "      <td>London</td>\n",
       "      <td>Endpoint</td>\n",
       "      <td>19:20</td>\n",
       "      <td>London</td>\n",
       "      <td>22.0</td>\n",
       "      <td>1</td>\n",
       "      <td>0</td>\n",
       "      <td>London</td>\n",
       "      <td>6506.176471</td>\n",
       "      <td>Endpoint</td>\n",
       "      <td>26191.448819</td>\n",
       "      <td>NaN</td>\n",
       "      <td>NaN</td>\n",
       "      <td>1.232000</td>\n",
       "      <td>1.056889</td>\n",
       "    </tr>\n",
       "  </tbody>\n",
       "</table>\n",
       "</div>"
      ],
      "text/plain": [
       "   half_results  map_name                                         match_href  \\\n",
       "0   (5:10, 6:6)   Inferno  /matches/2330141/pact-vs-x-kom-pixelbet-brawl-...   \n",
       "1   (4:11, 5:5)    Mirage  /matches/2330141/pact-vs-x-kom-pixelbet-brawl-...   \n",
       "2  (3:12, 11:4)  Overpass  /matches/2330164/london-vs-endpoint-esl-premie...   \n",
       "3    (9:6, 7:2)   Inferno  /matches/2330164/london-vs-endpoint-esl-premie...   \n",
       "4   (13:2, 3:5)    Mirage  /matches/2330164/london-vs-endpoint-esl-premie...   \n",
       "\n",
       "     pick_x result1_x result2_x                              star       date  \\\n",
       "0     x-kom        11        16  Best of 3* Group B decider match 2019-01-04   \n",
       "1      PACT         9        16  Best of 3* Group B decider match 2019-01-04   \n",
       "2  Endpoint        14        16      Best of 3 (LAN)* Grand final 2019-01-05   \n",
       "3    London        16         8      Best of 3 (LAN)* Grand final 2019-01-05   \n",
       "4       dec        16         7      Best of 3 (LAN)* Grand final 2019-01-05   \n",
       "\n",
       "                                event  \\\n",
       "0  Pixel.bet Brawl: Nordic vs. Europe   \n",
       "1  Pixel.bet Brawl: Nordic vs. Europe   \n",
       "2  ESL Premiership Winter 2018 Finals   \n",
       "3  ESL Premiership Winter 2018 Finals   \n",
       "4  ESL Premiership Winter 2018 Finals   \n",
       "\n",
       "                                        event_href  online  prizepool_x  \\\n",
       "0     /events/4273/pixelbet-brawl-nordic-vs-europe     1.0        10000   \n",
       "1     /events/4273/pixelbet-brawl-nordic-vs-europe     1.0        10000   \n",
       "2  /events/4343/esl-premiership-winter-2018-finals     0.0        12700   \n",
       "3  /events/4343/esl-premiership-winter-2018-finals     0.0        12700   \n",
       "4  /events/4343/esl-premiership-winter-2018-finals     0.0        12700   \n",
       "\n",
       "   result1_y  result2_y   team1     team2   time    keys  values  win  \\\n",
       "0          0          2    PACT     x-kom  17:00    PACT   137.0    0   \n",
       "1          0          2    PACT     x-kom  17:00    PACT   137.0    0   \n",
       "2          2          1  London  Endpoint  19:20  London    22.0    0   \n",
       "3          2          1  London  Endpoint  19:20  London    22.0    1   \n",
       "4          2          1  London  Endpoint  19:20  London    22.0    1   \n",
       "\n",
       "   map_pick  pick_y   prizepool_y      pick     prizepool  win_rate_1  \\\n",
       "0         0    PACT  19562.947368     x-kom  17511.403509         NaN   \n",
       "1         1    PACT  19562.947368     x-kom  17511.403509         NaN   \n",
       "2         0  London   6506.176471  Endpoint  26191.448819         NaN   \n",
       "3         1  London   6506.176471  Endpoint  26191.448819         NaN   \n",
       "4         0  London   6506.176471  Endpoint  26191.448819         NaN   \n",
       "\n",
       "   win_rate_2  avg_player_rating_x  avg_player_rating_y  \n",
       "0         NaN             0.882667             1.186000  \n",
       "1         NaN             0.882667             1.186000  \n",
       "2         NaN             1.232000             1.056889  \n",
       "3         NaN             1.232000             1.056889  \n",
       "4         NaN             1.232000             1.056889  "
      ]
     },
     "execution_count": 229,
     "metadata": {},
     "output_type": "execute_result"
    }
   ],
   "source": [
    "dat = stats.groupby(['date', 'team_name']).player_rating.agg(['sum', 'count'])\n",
    "dat.unstack().rolling(180, min_periods=8).sum().stack()\n",
    "dat['avg_player_rating'] = dat['sum'] / dat['count']\n",
    "del dat['count']\n",
    "del dat['sum']\n",
    "dat = dat.reset_index()\n",
    "\n",
    "df = df.merge(dat, right_on=['date', 'team_name'], left_on=['date', 'team1'],  how='left')\n",
    "df = df.merge(dat, right_on=['date', 'team_name'], left_on=['date', 'team2'],  how='left')\n",
    "del df['team_name_x']\n",
    "del df['team_name_y']\n",
    "del dat\n",
    "df.head()"
   ]
  },
  {
   "cell_type": "code",
   "execution_count": null,
   "metadata": {},
   "outputs": [],
   "source": []
  },
  {
   "cell_type": "code",
   "execution_count": null,
   "metadata": {},
   "outputs": [],
   "source": []
  },
  {
   "cell_type": "code",
   "execution_count": 230,
   "metadata": {},
   "outputs": [],
   "source": [
    "from sklearn.preprocessing import OrdinalEncoder"
   ]
  },
  {
   "cell_type": "code",
   "execution_count": 231,
   "metadata": {},
   "outputs": [],
   "source": [
    "oe = OrdinalEncoder()"
   ]
  },
  {
   "cell_type": "code",
   "execution_count": 232,
   "metadata": {},
   "outputs": [],
   "source": [
    "oe.fit(df[['map_name','team1','team2']])\n",
    "df[['map_name','team1','team2']] = oe.transform(df[['map_name','team1','team2']])"
   ]
  },
  {
   "cell_type": "code",
   "execution_count": 233,
   "metadata": {},
   "outputs": [],
   "source": [
    "import lightgbm as lgb"
   ]
  },
  {
   "cell_type": "code",
   "execution_count": 234,
   "metadata": {},
   "outputs": [],
   "source": [
    "X = df[['map_name','team1','team2','prizepool','map_pick', 'prizepool_x', \n",
    "        'prizepool_y', 'win_rate_1', 'win_rate_2', 'avg_player_rating_x', 'avg_player_rating_y']]"
   ]
  },
  {
   "cell_type": "code",
   "execution_count": 235,
   "metadata": {},
   "outputs": [],
   "source": [
    "y = df['win']"
   ]
  },
  {
   "cell_type": "code",
   "execution_count": 236,
   "metadata": {},
   "outputs": [],
   "source": [
    "from sklearn.model_selection import train_test_split"
   ]
  },
  {
   "cell_type": "code",
   "execution_count": 237,
   "metadata": {},
   "outputs": [],
   "source": [
    "X_train, X_test, y_train, y_test = train_test_split(X, y, test_size = 0.33, random_state = 42, shuffle=False)"
   ]
  },
  {
   "cell_type": "code",
   "execution_count": 238,
   "metadata": {},
   "outputs": [],
   "source": [
    "import lightgbm as lgbm\n",
    "model = lgbm.LGBMClassifier(num_leaves = 31, feature_fraction = 0.7, bagging_fraction = 1.0, min_child_samples = 20, n_estimators = 1000)"
   ]
  },
  {
   "cell_type": "code",
   "execution_count": 239,
   "metadata": {},
   "outputs": [
    {
     "name": "stdout",
     "output_type": "stream",
     "text": [
      "[LightGBM] [Warning] feature_fraction is set=0.7, colsample_bytree=1.0 will be ignored. Current value: feature_fraction=0.7\n",
      "[LightGBM] [Warning] bagging_fraction is set=1.0, subsample=1.0 will be ignored. Current value: bagging_fraction=1.0\n"
     ]
    },
    {
     "data": {
      "text/plain": [
       "LGBMClassifier(bagging_fraction=1.0, feature_fraction=0.7, n_estimators=1000)"
      ]
     },
     "execution_count": 239,
     "metadata": {},
     "output_type": "execute_result"
    }
   ],
   "source": [
    "model.fit(X_train, y_train)"
   ]
  },
  {
   "cell_type": "code",
   "execution_count": 240,
   "metadata": {},
   "outputs": [],
   "source": [
    "from sklearn.metrics import precision_score, recall_score, f1_score, accuracy_score"
   ]
  },
  {
   "cell_type": "code",
   "execution_count": 241,
   "metadata": {},
   "outputs": [],
   "source": [
    "from sklearn.metrics import confusion_matrix\n",
    "import pandas as pd\n",
    "import seaborn as sn\n",
    "import matplotlib.pyplot as plt\n",
    "%matplotlib inline"
   ]
  },
  {
   "cell_type": "code",
   "execution_count": 242,
   "metadata": {},
   "outputs": [],
   "source": [
    "y_true = y_test"
   ]
  },
  {
   "cell_type": "code",
   "execution_count": 243,
   "metadata": {},
   "outputs": [],
   "source": [
    "test_pred = model.predict(X_test)\n",
    "y_pred = test_pred"
   ]
  },
  {
   "cell_type": "code",
   "execution_count": 244,
   "metadata": {},
   "outputs": [
    {
     "data": {
      "text/plain": [
       "<matplotlib.axes._subplots.AxesSubplot at 0x21981c85dc0>"
      ]
     },
     "execution_count": 244,
     "metadata": {},
     "output_type": "execute_result"
    },
    {
     "data": {
      "image/png": "[encoded data removed]",
      "text/plain": [
       "<Figure size 720x504 with 2 Axes>"
      ]
     },
     "metadata": {
      "needs_background": "light"
     },
     "output_type": "display_data"
    }
   ],
   "source": [
    "data = confusion_matrix(y_true, y_pred)\n",
    "df_cm = pd.DataFrame(data, columns=np.unique(y_true), index = np.unique(y_true))\n",
    "df_cm.index.name = 'Actual'\n",
    "df_cm.columns.name = 'Predicted'\n",
    "plt.figure(figsize = (10,7))\n",
    "sn.set(font_scale=1.4)#for label size\n",
    "sn.heatmap(df_cm, cmap=\"Blues\", annot=True,annot_kws={\"size\": 16})# font size"
   ]
  },
  {
   "cell_type": "code",
   "execution_count": 245,
   "metadata": {},
   "outputs": [
    {
     "name": "stdout",
     "output_type": "stream",
     "text": [
      "f1_score 0.76\n",
      "recall_score 0.77\n",
      "precision_score 0.76\n",
      "accuracy_score 0.76\n"
     ]
    }
   ],
   "source": [
    "print('f1_score',round(f1_score(y_test, test_pred), 2))\n",
    "print('recall_score',round(recall_score(y_test, test_pred), 2))\n",
    "print('precision_score',round(precision_score(y_test, test_pred), 2))\n",
    "print('accuracy_score',round(accuracy_score(y_test, test_pred), 2))"
   ]
  },
  {
   "cell_type": "code",
   "execution_count": 246,
   "metadata": {},
   "outputs": [
    {
     "data": {
      "text/plain": [
       "<matplotlib.axes._subplots.AxesSubplot at 0x2198902b130>"
      ]
     },
     "execution_count": 246,
     "metadata": {},
     "output_type": "execute_result"
    },
    {
     "data": {
      "image/png": "[encoded data removed]",
      "text/plain": [
       "<Figure size 432x288 with 1 Axes>"
      ]
     },
     "metadata": {},
     "output_type": "display_data"
    }
   ],
   "source": [
    "lgb.plot_importance(model)"
   ]
  },
  {
   "cell_type": "code",
   "execution_count": 47,
   "metadata": {},
   "outputs": [
    {
     "name": "stderr",
     "output_type": "stream",
     "text": [
      "\u001b[32m[I 2020-12-11 06:02:14,817]\u001b[0m A new study created in memory with name: no-name-5185911d-8079-4da7-9e37-e85938c9efc1\u001b[0m\n",
      "feature_fraction, val_score: 0.658988:  14%|######4                                      | 1/7 [00:00<00:01,  4.92it/s]\u001b[32m[I 2020-12-11 06:02:15,026]\u001b[0m Trial 0 finished with value: 0.6589884354647472 and parameters: {'feature_fraction': 0.4}. Best is trial 0 with value: 0.6589884354647472.\u001b[0m\n",
      "feature_fraction, val_score: 0.658988:  14%|######4                                      | 1/7 [00:00<00:01,  4.92it/s]"
     ]
    },
    {
     "name": "stdout",
     "output_type": "stream",
     "text": [
      "Training until validation scores don't improve for 100 rounds\n",
      "Early stopping, best iteration is:\n",
      "[117]\tvalid_0's binary_logloss: 0.58989\tvalid_1's binary_logloss: 0.658988\n",
      "Training until validation scores don't improve for 100 rounds\n",
      "Early stopping, best iteration is:\n",
      "[140]\tvalid_0's binary_logloss: 0.565166\tvalid_1's binary_logloss: 0.658155"
     ]
    },
    {
     "name": "stderr",
     "output_type": "stream",
     "text": [
      "feature_fraction, val_score: 0.658155:  29%|############8                                | 2/7 [00:00<00:01,  4.61it/s]\u001b[32m[I 2020-12-11 06:02:15,274]\u001b[0m Trial 1 finished with value: 0.6581553008642154 and parameters: {'feature_fraction': 1.0}. Best is trial 1 with value: 0.6581553008642154.\u001b[0m\n",
      "feature_fraction, val_score: 0.658155:  29%|############8                                | 2/7 [00:00<00:01,  4.61it/s]"
     ]
    },
    {
     "name": "stdout",
     "output_type": "stream",
     "text": [
      "\n",
      "Training until validation scores don't improve for 100 rounds\n"
     ]
    },
    {
     "name": "stderr",
     "output_type": "stream",
     "text": [
      "feature_fraction, val_score: 0.658155:  43%|###################2                         | 3/7 [00:00<00:00,  4.57it/s]\u001b[32m[I 2020-12-11 06:02:15,497]\u001b[0m Trial 2 finished with value: 0.6591374368004487 and parameters: {'feature_fraction': 0.8999999999999999}. Best is trial 1 with value: 0.6581553008642154.\u001b[0m\n",
      "feature_fraction, val_score: 0.658155:  43%|###################2                         | 3/7 [00:00<00:00,  4.57it/s]"
     ]
    },
    {
     "name": "stdout",
     "output_type": "stream",
     "text": [
      "Early stopping, best iteration is:\n",
      "[128]\tvalid_0's binary_logloss: 0.572884\tvalid_1's binary_logloss: 0.659137\n",
      "Training until validation scores don't improve for 100 rounds\n",
      "Early stopping, best iteration is:\n",
      "[115]\tvalid_0's binary_logloss: 0.58632\tvalid_1's binary_logloss: 0.659123"
     ]
    },
    {
     "name": "stderr",
     "output_type": "stream",
     "text": [
      "feature_fraction, val_score: 0.658155:  57%|#########################7                   | 4/7 [00:00<00:00,  4.60it/s]\u001b[32m[I 2020-12-11 06:02:15,711]\u001b[0m Trial 3 finished with value: 0.65912283329455 and parameters: {'feature_fraction': 0.6}. Best is trial 1 with value: 0.6581553008642154.\u001b[0m\n",
      "feature_fraction, val_score: 0.658155:  57%|#########################7                   | 4/7 [00:00<00:00,  4.60it/s]"
     ]
    },
    {
     "name": "stdout",
     "output_type": "stream",
     "text": [
      "\n",
      "Training until validation scores don't improve for 100 rounds\n"
     ]
    },
    {
     "name": "stderr",
     "output_type": "stream",
     "text": [
      "feature_fraction, val_score: 0.658155:  71%|################################1            | 5/7 [00:01<00:00,  4.63it/s]\u001b[32m[I 2020-12-11 06:02:15,924]\u001b[0m Trial 4 finished with value: 0.65912283329455 and parameters: {'feature_fraction': 0.5}. Best is trial 1 with value: 0.6581553008642154.\u001b[0m\n",
      "feature_fraction, val_score: 0.658155:  71%|################################1            | 5/7 [00:01<00:00,  4.63it/s]"
     ]
    },
    {
     "name": "stdout",
     "output_type": "stream",
     "text": [
      "Early stopping, best iteration is:\n",
      "[115]\tvalid_0's binary_logloss: 0.58632\tvalid_1's binary_logloss: 0.659123\n",
      "Training until validation scores don't improve for 100 rounds\n"
     ]
    },
    {
     "name": "stderr",
     "output_type": "stream",
     "text": [
      "feature_fraction, val_score: 0.657492:  86%|######################################5      | 6/7 [00:01<00:00,  4.63it/s]\u001b[32m[I 2020-12-11 06:02:16,140]\u001b[0m Trial 5 finished with value: 0.657492092377284 and parameters: {'feature_fraction': 0.7}. Best is trial 5 with value: 0.657492092377284.\u001b[0m\n",
      "feature_fraction, val_score: 0.657492:  86%|######################################5      | 6/7 [00:01<00:00,  4.63it/s]"
     ]
    },
    {
     "name": "stdout",
     "output_type": "stream",
     "text": [
      "Early stopping, best iteration is:\n",
      "[118]\tvalid_0's binary_logloss: 0.580916\tvalid_1's binary_logloss: 0.657492\n",
      "Training until validation scores don't improve for 100 rounds\n"
     ]
    },
    {
     "name": "stderr",
     "output_type": "stream",
     "text": [
      "feature_fraction, val_score: 0.657492: 100%|#############################################| 7/7 [00:01<00:00,  4.54it/s]\u001b[32m[I 2020-12-11 06:02:16,370]\u001b[0m Trial 6 finished with value: 0.6591374368004487 and parameters: {'feature_fraction': 0.8}. Best is trial 5 with value: 0.657492092377284.\u001b[0m\n",
      "feature_fraction, val_score: 0.657492: 100%|#############################################| 7/7 [00:01<00:00,  4.52it/s]\n",
      "num_leaves, val_score: 0.657492:   0%|                                                          | 0/20 [00:00<?, ?it/s]"
     ]
    },
    {
     "name": "stdout",
     "output_type": "stream",
     "text": [
      "Early stopping, best iteration is:\n",
      "[128]\tvalid_0's binary_logloss: 0.572884\tvalid_1's binary_logloss: 0.659137\n",
      "Training until validation scores don't improve for 100 rounds\n"
     ]
    },
    {
     "name": "stderr",
     "output_type": "stream",
     "text": [
      "num_leaves, val_score: 0.657492:   5%|##5                                               | 1/20 [00:00<00:05,  3.76it/s]\u001b[32m[I 2020-12-11 06:02:16,641]\u001b[0m Trial 7 finished with value: 0.6621974248934839 and parameters: {'num_leaves': 98}. Best is trial 7 with value: 0.6621974248934839.\u001b[0m\n",
      "num_leaves, val_score: 0.657492:   5%|##5                                               | 1/20 [00:00<00:05,  3.76it/s]"
     ]
    },
    {
     "name": "stdout",
     "output_type": "stream",
     "text": [
      "Early stopping, best iteration is:\n",
      "[46]\tvalid_0's binary_logloss: 0.561148\tvalid_1's binary_logloss: 0.662197\n",
      "Training until validation scores don't improve for 100 rounds\n"
     ]
    },
    {
     "name": "stderr",
     "output_type": "stream",
     "text": [
      "num_leaves, val_score: 0.657492:  10%|#####                                             | 2/20 [00:00<00:04,  3.86it/s]\u001b[32m[I 2020-12-11 06:02:16,884]\u001b[0m Trial 8 finished with value: 0.660793251292278 and parameters: {'num_leaves': 9}. Best is trial 8 with value: 0.660793251292278.\u001b[0m\n",
      "num_leaves, val_score: 0.657492:  10%|#####                                             | 2/20 [00:00<00:04,  3.86it/s]"
     ]
    },
    {
     "name": "stdout",
     "output_type": "stream",
     "text": [
      "Early stopping, best iteration is:\n",
      "[300]\tvalid_0's binary_logloss: 0.608429\tvalid_1's binary_logloss: 0.660793\n",
      "Training until validation scores don't improve for 100 rounds\n"
     ]
    },
    {
     "name": "stderr",
     "output_type": "stream",
     "text": [
      "num_leaves, val_score: 0.657492:  15%|#######5                                          | 3/20 [00:00<00:04,  3.61it/s]\u001b[32m[I 2020-12-11 06:02:17,210]\u001b[0m Trial 9 finished with value: 0.6603000973386075 and parameters: {'num_leaves': 8}. Best is trial 9 with value: 0.6603000973386075.\u001b[0m\n",
      "num_leaves, val_score: 0.657492:  15%|#######5                                          | 3/20 [00:00<00:04,  3.61it/s]"
     ]
    },
    {
     "name": "stdout",
     "output_type": "stream",
     "text": [
      "Early stopping, best iteration is:\n",
      "[492]\tvalid_0's binary_logloss: 0.593303\tvalid_1's binary_logloss: 0.6603\n",
      "Training until validation scores don't improve for 100 rounds\n"
     ]
    },
    {
     "name": "stderr",
     "output_type": "stream",
     "text": [
      "num_leaves, val_score: 0.657492:  20%|##########                                        | 4/20 [00:01<00:05,  2.93it/s]\u001b[32m[I 2020-12-11 06:02:17,694]\u001b[0m Trial 10 finished with value: 0.6614378960169076 and parameters: {'num_leaves': 247}. Best is trial 9 with value: 0.6603000973386075.\u001b[0m\n",
      "num_leaves, val_score: 0.657492:  20%|##########                                        | 4/20 [00:01<00:05,  2.93it/s]"
     ]
    },
    {
     "name": "stdout",
     "output_type": "stream",
     "text": [
      "Early stopping, best iteration is:\n",
      "[30]\tvalid_0's binary_logloss: 0.521083\tvalid_1's binary_logloss: 0.661438\n",
      "Training until validation scores don't improve for 100 rounds\n"
     ]
    },
    {
     "name": "stderr",
     "output_type": "stream",
     "text": [
      "num_leaves, val_score: 0.657492:  25%|############5                                     | 5/20 [00:01<00:05,  2.68it/s]\u001b[32m[I 2020-12-11 06:02:18,140]\u001b[0m Trial 11 finished with value: 0.6648030258966792 and parameters: {'num_leaves': 250}. Best is trial 9 with value: 0.6603000973386075.\u001b[0m\n",
      "num_leaves, val_score: 0.657492:  25%|############5                                     | 5/20 [00:01<00:05,  2.68it/s]"
     ]
    },
    {
     "name": "stdout",
     "output_type": "stream",
     "text": [
      "Early stopping, best iteration is:\n",
      "[20]\tvalid_0's binary_logloss: 0.560017\tvalid_1's binary_logloss: 0.664803\n",
      "Training until validation scores don't improve for 100 rounds\n"
     ]
    },
    {
     "name": "stderr",
     "output_type": "stream",
     "text": [
      "num_leaves, val_score: 0.657492:  30%|###############                                   | 6/20 [00:02<00:05,  2.74it/s]\u001b[32m[I 2020-12-11 06:02:18,485]\u001b[0m Trial 12 finished with value: 0.6620030635634655 and parameters: {'num_leaves': 157}. Best is trial 9 with value: 0.6603000973386075.\u001b[0m\n",
      "num_leaves, val_score: 0.657492:  30%|###############                                   | 6/20 [00:02<00:05,  2.74it/s]"
     ]
    },
    {
     "name": "stdout",
     "output_type": "stream",
     "text": [
      "Early stopping, best iteration is:\n",
      "[30]\tvalid_0's binary_logloss: 0.558482\tvalid_1's binary_logloss: 0.662003\n",
      "Training until validation scores don't improve for 100 rounds\n"
     ]
    },
    {
     "name": "stderr",
     "output_type": "stream",
     "text": [
      "num_leaves, val_score: 0.657492:  35%|#################5                                | 7/20 [00:02<00:04,  2.82it/s]\u001b[32m[I 2020-12-11 06:02:18,816]\u001b[0m Trial 13 finished with value: 0.6634288150571571 and parameters: {'num_leaves': 156}. Best is trial 9 with value: 0.6603000973386075.\u001b[0m\n",
      "num_leaves, val_score: 0.657492:  35%|#################5                                | 7/20 [00:02<00:04,  2.82it/s]"
     ]
    },
    {
     "name": "stdout",
     "output_type": "stream",
     "text": [
      "Early stopping, best iteration is:\n",
      "[27]\tvalid_0's binary_logloss: 0.568187\tvalid_1's binary_logloss: 0.663429\n",
      "Training until validation scores don't improve for 100 rounds\n"
     ]
    },
    {
     "name": "stderr",
     "output_type": "stream",
     "text": [
      "num_leaves, val_score: 0.657492:  40%|####################                              | 8/20 [00:02<00:03,  3.10it/s]\u001b[32m[I 2020-12-11 06:02:19,064]\u001b[0m Trial 14 finished with value: 0.6608338839642597 and parameters: {'num_leaves': 88}. Best is trial 9 with value: 0.6603000973386075.\u001b[0m\n",
      "num_leaves, val_score: 0.657492:  40%|####################                              | 8/20 [00:02<00:03,  3.10it/s]"
     ]
    },
    {
     "name": "stdout",
     "output_type": "stream",
     "text": [
      "Early stopping, best iteration is:\n",
      "[35]\tvalid_0's binary_logloss: 0.58585\tvalid_1's binary_logloss: 0.660834\n",
      "Training until validation scores don't improve for 100 rounds\n"
     ]
    },
    {
     "name": "stderr",
     "output_type": "stream",
     "text": [
      "num_leaves, val_score: 0.657492:  45%|######################5                           | 9/20 [00:03<00:03,  2.85it/s]\u001b[32m[I 2020-12-11 06:02:19,483]\u001b[0m Trial 15 finished with value: 0.6635483894897591 and parameters: {'num_leaves': 204}. Best is trial 9 with value: 0.6603000973386075.\u001b[0m\n",
      "num_leaves, val_score: 0.657492:  45%|######################5                           | 9/20 [00:03<00:03,  2.85it/s]"
     ]
    },
    {
     "name": "stdout",
     "output_type": "stream",
     "text": [
      "Early stopping, best iteration is:\n",
      "[35]\tvalid_0's binary_logloss: 0.52318\tvalid_1's binary_logloss: 0.663548\n",
      "Training until validation scores don't improve for 100 rounds\n"
     ]
    },
    {
     "name": "stderr",
     "output_type": "stream",
     "text": [
      "num_leaves, val_score: 0.657492:  50%|########################5                        | 10/20 [00:03<00:03,  3.16it/s]\u001b[32m[I 2020-12-11 06:02:19,719]\u001b[0m Trial 16 finished with value: 0.6610641155017827 and parameters: {'num_leaves': 54}. Best is trial 9 with value: 0.6603000973386075.\u001b[0m\n",
      "num_leaves, val_score: 0.657492:  50%|########################5                        | 10/20 [00:03<00:03,  3.16it/s]"
     ]
    },
    {
     "name": "stdout",
     "output_type": "stream",
     "text": [
      "Early stopping, best iteration is:\n",
      "[77]\tvalid_0's binary_logloss: 0.56975\tvalid_1's binary_logloss: 0.661064\n",
      "Training until validation scores don't improve for 100 rounds\n"
     ]
    },
    {
     "name": "stderr",
     "output_type": "stream",
     "text": [
      "num_leaves, val_score: 0.657492:  55%|##########################9                      | 11/20 [00:03<00:03,  2.48it/s]\u001b[32m[I 2020-12-11 06:02:20,324]\u001b[0m Trial 17 finished with value: 0.6630454896803063 and parameters: {'num_leaves': 218}. Best is trial 9 with value: 0.6603000973386075.\u001b[0m\n",
      "num_leaves, val_score: 0.657492:  55%|##########################9                      | 11/20 [00:03<00:03,  2.48it/s]"
     ]
    },
    {
     "name": "stdout",
     "output_type": "stream",
     "text": [
      "Early stopping, best iteration is:\n",
      "[30]\tvalid_0's binary_logloss: 0.531835\tvalid_1's binary_logloss: 0.663045\n",
      "Training until validation scores don't improve for 100 rounds\n"
     ]
    },
    {
     "name": "stderr",
     "output_type": "stream",
     "text": [
      "num_leaves, val_score: 0.657492:  60%|#############################4                   | 12/20 [00:04<00:02,  2.74it/s]\u001b[32m[I 2020-12-11 06:02:20,600]\u001b[0m Trial 18 finished with value: 0.6605622706688219 and parameters: {'num_leaves': 33}. Best is trial 9 with value: 0.6603000973386075.\u001b[0m\n",
      "num_leaves, val_score: 0.657492:  60%|#############################4                   | 12/20 [00:04<00:02,  2.74it/s]"
     ]
    },
    {
     "name": "stdout",
     "output_type": "stream",
     "text": [
      "Early stopping, best iteration is:\n",
      "[95]\tvalid_0's binary_logloss: 0.588471\tvalid_1's binary_logloss: 0.660562\n",
      "Training until validation scores don't improve for 100 rounds\n"
     ]
    },
    {
     "name": "stderr",
     "output_type": "stream",
     "text": [
      "num_leaves, val_score: 0.657492:  65%|###############################8                 | 13/20 [00:04<00:02,  2.58it/s]\u001b[32m[I 2020-12-11 06:02:21,038]\u001b[0m Trial 19 finished with value: 0.6619918962643032 and parameters: {'num_leaves': 183}. Best is trial 9 with value: 0.6603000973386075.\u001b[0m\n",
      "num_leaves, val_score: 0.657492:  65%|###############################8                 | 13/20 [00:04<00:02,  2.58it/s]"
     ]
    },
    {
     "name": "stdout",
     "output_type": "stream",
     "text": [
      "Early stopping, best iteration is:\n",
      "[32]\tvalid_0's binary_logloss: 0.541448\tvalid_1's binary_logloss: 0.661992\n",
      "Training until validation scores don't improve for 100 rounds\n"
     ]
    },
    {
     "name": "stderr",
     "output_type": "stream",
     "text": [
      "num_leaves, val_score: 0.657492:  70%|##################################3              | 14/20 [00:04<00:02,  2.83it/s]\u001b[32m[I 2020-12-11 06:02:21,314]\u001b[0m Trial 20 finished with value: 0.6605797209309169 and parameters: {'num_leaves': 104}. Best is trial 9 with value: 0.6603000973386075.\u001b[0m\n",
      "num_leaves, val_score: 0.657492:  70%|##################################3              | 14/20 [00:04<00:02,  2.83it/s]"
     ]
    },
    {
     "name": "stdout",
     "output_type": "stream",
     "text": [
      "Early stopping, best iteration is:\n",
      "[30]\tvalid_0's binary_logloss: 0.585788\tvalid_1's binary_logloss: 0.66058\n",
      "Training until validation scores don't improve for 100 rounds\n"
     ]
    },
    {
     "name": "stderr",
     "output_type": "stream",
     "text": [
      "num_leaves, val_score: 0.657492:  75%|####################################7            | 15/20 [00:05<00:01,  3.10it/s]\u001b[32m[I 2020-12-11 06:02:21,565]\u001b[0m Trial 21 finished with value: 0.6605639558471444 and parameters: {'num_leaves': 53}. Best is trial 9 with value: 0.6603000973386075.\u001b[0m\n",
      "num_leaves, val_score: 0.657492:  75%|####################################7            | 15/20 [00:05<00:01,  3.10it/s]"
     ]
    },
    {
     "name": "stdout",
     "output_type": "stream",
     "text": [
      "Early stopping, best iteration is:\n",
      "[86]\tvalid_0's binary_logloss: 0.56356\tvalid_1's binary_logloss: 0.660564\n",
      "Training until validation scores don't improve for 100 rounds\n"
     ]
    },
    {
     "name": "stderr",
     "output_type": "stream",
     "text": [
      "num_leaves, val_score: 0.657492:  80%|#######################################2         | 16/20 [00:05<00:01,  3.00it/s]\u001b[32m[I 2020-12-11 06:02:21,923]\u001b[0m Trial 22 finished with value: 0.662749483050907 and parameters: {'num_leaves': 134}. Best is trial 9 with value: 0.6603000973386075.\u001b[0m\n",
      "num_leaves, val_score: 0.657492:  80%|#######################################2         | 16/20 [00:05<00:01,  3.00it/s]"
     ]
    },
    {
     "name": "stdout",
     "output_type": "stream",
     "text": [
      "Early stopping, best iteration is:\n",
      "[41]\tvalid_0's binary_logloss: 0.545217\tvalid_1's binary_logloss: 0.662749\n",
      "Training until validation scores don't improve for 100 rounds\n"
     ]
    },
    {
     "name": "stderr",
     "output_type": "stream",
     "text": [
      "num_leaves, val_score: 0.657492:  85%|#########################################6       | 17/20 [00:06<00:01,  2.60it/s]\u001b[32m[I 2020-12-11 06:02:22,429]\u001b[0m Trial 23 finished with value: 0.6622298593406042 and parameters: {'num_leaves': 217}. Best is trial 9 with value: 0.6603000973386075.\u001b[0m\n",
      "num_leaves, val_score: 0.657492:  85%|#########################################6       | 17/20 [00:06<00:01,  2.60it/s]"
     ]
    },
    {
     "name": "stdout",
     "output_type": "stream",
     "text": [
      "Early stopping, best iteration is:\n",
      "[31]\tvalid_0's binary_logloss: 0.530785\tvalid_1's binary_logloss: 0.66223\n",
      "Training until validation scores don't improve for 100 rounds\n"
     ]
    },
    {
     "name": "stderr",
     "output_type": "stream",
     "text": [
      "num_leaves, val_score: 0.657492:  90%|############################################1    | 18/20 [00:06<00:00,  2.81it/s]\u001b[32m[I 2020-12-11 06:02:22,716]\u001b[0m Trial 24 finished with value: 0.659411814344768 and parameters: {'num_leaves': 64}. Best is trial 24 with value: 0.659411814344768.\u001b[0m\n",
      "num_leaves, val_score: 0.657492:  90%|############################################1    | 18/20 [00:06<00:00,  2.81it/s]"
     ]
    },
    {
     "name": "stdout",
     "output_type": "stream",
     "text": [
      "Early stopping, best iteration is:\n",
      "[80]\tvalid_0's binary_logloss: 0.555383\tvalid_1's binary_logloss: 0.659412\n",
      "Training until validation scores don't improve for 100 rounds\n"
     ]
    },
    {
     "name": "stderr",
     "output_type": "stream",
     "text": [
      "num_leaves, val_score: 0.657492:  95%|##############################################5  | 19/20 [00:06<00:00,  2.84it/s]\u001b[32m[I 2020-12-11 06:02:23,058]\u001b[0m Trial 25 finished with value: 0.6605404471830492 and parameters: {'num_leaves': 126}. Best is trial 24 with value: 0.659411814344768.\u001b[0m\n",
      "num_leaves, val_score: 0.657492:  95%|##############################################5  | 19/20 [00:06<00:00,  2.84it/s]"
     ]
    },
    {
     "name": "stdout",
     "output_type": "stream",
     "text": [
      "Early stopping, best iteration is:\n",
      "[35]\tvalid_0's binary_logloss: 0.562314\tvalid_1's binary_logloss: 0.66054\n",
      "Training until validation scores don't improve for 100 rounds\n"
     ]
    },
    {
     "name": "stderr",
     "output_type": "stream",
     "text": [
      "num_leaves, val_score: 0.657492: 100%|#################################################| 20/20 [00:07<00:00,  2.66it/s]\u001b[32m[I 2020-12-11 06:02:23,489]\u001b[0m Trial 26 finished with value: 0.6615218641595465 and parameters: {'num_leaves': 166}. Best is trial 24 with value: 0.659411814344768.\u001b[0m\n",
      "num_leaves, val_score: 0.657492: 100%|#################################################| 20/20 [00:07<00:00,  2.81it/s]\n",
      "bagging, val_score: 0.657492:   0%|                                                             | 0/10 [00:00<?, ?it/s]"
     ]
    },
    {
     "name": "stdout",
     "output_type": "stream",
     "text": [
      "Early stopping, best iteration is:\n",
      "[35]\tvalid_0's binary_logloss: 0.540423\tvalid_1's binary_logloss: 0.661522\n",
      "Training until validation scores don't improve for 100 rounds\n"
     ]
    },
    {
     "name": "stderr",
     "output_type": "stream",
     "text": [
      "bagging, val_score: 0.657492:  10%|#####3                                               | 1/10 [00:00<00:02,  3.10it/s]\u001b[32m[I 2020-12-11 06:02:23,816]\u001b[0m Trial 27 finished with value: 0.660081591028656 and parameters: {'bagging_fraction': 0.7813127827092492, 'bagging_freq': 7}. Best is trial 27 with value: 0.660081591028656.\u001b[0m\n",
      "bagging, val_score: 0.657492:  10%|#####3                                               | 1/10 [00:00<00:02,  3.10it/s]"
     ]
    },
    {
     "name": "stdout",
     "output_type": "stream",
     "text": [
      "Early stopping, best iteration is:\n",
      "[137]\tvalid_0's binary_logloss: 0.571164\tvalid_1's binary_logloss: 0.660082\n",
      "Training until validation scores don't improve for 100 rounds\n"
     ]
    },
    {
     "name": "stderr",
     "output_type": "stream",
     "text": [
      "bagging, val_score: 0.657492:  20%|##########6                                          | 2/10 [00:00<00:02,  3.44it/s]\u001b[32m[I 2020-12-11 06:02:24,034]\u001b[0m Trial 28 finished with value: 0.6647228106279476 and parameters: {'bagging_fraction': 0.4306106805049153, 'bagging_freq': 1}. Best is trial 27 with value: 0.660081591028656.\u001b[0m\n",
      "bagging, val_score: 0.657492:  20%|##########6                                          | 2/10 [00:00<00:02,  3.44it/s]"
     ]
    },
    {
     "name": "stdout",
     "output_type": "stream",
     "text": [
      "Early stopping, best iteration is:\n",
      "[54]\tvalid_0's binary_logloss: 0.619882\tvalid_1's binary_logloss: 0.664723\n",
      "Training until validation scores don't improve for 100 rounds\n"
     ]
    },
    {
     "name": "stderr",
     "output_type": "stream",
     "text": [
      "bagging, val_score: 0.657492:  30%|###############9                                     | 3/10 [00:00<00:01,  3.55it/s]\u001b[32m[I 2020-12-11 06:02:24,295]\u001b[0m Trial 29 finished with value: 0.6591339001523805 and parameters: {'bagging_fraction': 0.9543063051706318, 'bagging_freq': 4}. Best is trial 29 with value: 0.6591339001523805.\u001b[0m\n",
      "bagging, val_score: 0.657492:  30%|###############9                                     | 3/10 [00:00<00:01,  3.55it/s]"
     ]
    },
    {
     "name": "stdout",
     "output_type": "stream",
     "text": [
      "Early stopping, best iteration is:\n",
      "[118]\tvalid_0's binary_logloss: 0.579242\tvalid_1's binary_logloss: 0.659134\n",
      "Training until validation scores don't improve for 100 rounds\n",
      "Early stopping, best iteration is:\n",
      "[56]\tvalid_0's binary_logloss: 0.621505\tvalid_1's binary_logloss: 0.665659"
     ]
    },
    {
     "name": "stderr",
     "output_type": "stream",
     "text": [
      "bagging, val_score: 0.657492:  40%|#####################2                               | 4/10 [00:01<00:01,  3.86it/s]\u001b[32m[I 2020-12-11 06:02:24,501]\u001b[0m Trial 30 finished with value: 0.6656586392664271 and parameters: {'bagging_fraction': 0.40477669026596114, 'bagging_freq': 7}. Best is trial 29 with value: 0.6591339001523805.\u001b[0m\n",
      "bagging, val_score: 0.657492:  40%|#####################2                               | 4/10 [00:01<00:01,  3.86it/s]"
     ]
    },
    {
     "name": "stdout",
     "output_type": "stream",
     "text": [
      "\n",
      "Training until validation scores don't improve for 100 rounds\n"
     ]
    },
    {
     "name": "stderr",
     "output_type": "stream",
     "text": [
      "bagging, val_score: 0.657492:  50%|##########################5                          | 5/10 [00:01<00:01,  3.67it/s]\u001b[32m[I 2020-12-11 06:02:24,805]\u001b[0m Trial 31 finished with value: 0.6603801964532838 and parameters: {'bagging_fraction': 0.6433516161322301, 'bagging_freq': 1}. Best is trial 29 with value: 0.6591339001523805.\u001b[0m\n",
      "bagging, val_score: 0.657492:  50%|##########################5                          | 5/10 [00:01<00:01,  3.67it/s]"
     ]
    },
    {
     "name": "stdout",
     "output_type": "stream",
     "text": [
      "Early stopping, best iteration is:\n",
      "[116]\tvalid_0's binary_logloss: 0.581736\tvalid_1's binary_logloss: 0.66038\n",
      "Training until validation scores don't improve for 100 rounds\n"
     ]
    },
    {
     "name": "stderr",
     "output_type": "stream",
     "text": [
      "bagging, val_score: 0.657492:  60%|###############################8                     | 6/10 [00:01<00:01,  3.40it/s]\u001b[32m[I 2020-12-11 06:02:25,150]\u001b[0m Trial 32 finished with value: 0.6596613617619498 and parameters: {'bagging_fraction': 0.975757339143082, 'bagging_freq': 4}. Best is trial 29 with value: 0.6591339001523805.\u001b[0m\n",
      "bagging, val_score: 0.657492:  60%|###############################8                     | 6/10 [00:01<00:01,  3.40it/s]"
     ]
    },
    {
     "name": "stdout",
     "output_type": "stream",
     "text": [
      "Early stopping, best iteration is:\n",
      "[121]\tvalid_0's binary_logloss: 0.578336\tvalid_1's binary_logloss: 0.659661\n",
      "Training until validation scores don't improve for 100 rounds\n"
     ]
    },
    {
     "name": "stderr",
     "output_type": "stream",
     "text": [
      "bagging, val_score: 0.657492:  70%|#####################################                | 7/10 [00:01<00:00,  3.45it/s]\u001b[32m[I 2020-12-11 06:02:25,430]\u001b[0m Trial 33 finished with value: 0.6644626782290153 and parameters: {'bagging_fraction': 0.5798401386334182, 'bagging_freq': 6}. Best is trial 29 with value: 0.6591339001523805.\u001b[0m\n",
      "bagging, val_score: 0.657492:  70%|#####################################                | 7/10 [00:01<00:00,  3.45it/s]"
     ]
    },
    {
     "name": "stdout",
     "output_type": "stream",
     "text": [
      "Early stopping, best iteration is:\n",
      "[82]\tvalid_0's binary_logloss: 0.601438\tvalid_1's binary_logloss: 0.664463\n",
      "Training until validation scores don't improve for 100 rounds\n"
     ]
    },
    {
     "name": "stderr",
     "output_type": "stream",
     "text": [
      "bagging, val_score: 0.657492:  80%|##########################################4          | 8/10 [00:02<00:00,  3.50it/s]\u001b[32m[I 2020-12-11 06:02:25,705]\u001b[0m Trial 34 finished with value: 0.6609912722453642 and parameters: {'bagging_fraction': 0.8019643270996777, 'bagging_freq': 2}. Best is trial 29 with value: 0.6591339001523805.\u001b[0m\n",
      "bagging, val_score: 0.657492:  80%|##########################################4          | 8/10 [00:02<00:00,  3.50it/s]"
     ]
    },
    {
     "name": "stdout",
     "output_type": "stream",
     "text": [
      "Early stopping, best iteration is:\n",
      "[118]\tvalid_0's binary_logloss: 0.580474\tvalid_1's binary_logloss: 0.660991\n",
      "Training until validation scores don't improve for 100 rounds\n"
     ]
    },
    {
     "name": "stderr",
     "output_type": "stream",
     "text": [
      "bagging, val_score: 0.657492:  90%|###############################################7     | 9/10 [00:02<00:00,  3.32it/s]\u001b[32m[I 2020-12-11 06:02:26,044]\u001b[0m Trial 35 finished with value: 0.6624625065427908 and parameters: {'bagging_fraction': 0.5428086383340596, 'bagging_freq': 3}. Best is trial 29 with value: 0.6591339001523805.\u001b[0m\n",
      "bagging, val_score: 0.657492:  90%|###############################################7     | 9/10 [00:02<00:00,  3.32it/s]"
     ]
    },
    {
     "name": "stdout",
     "output_type": "stream",
     "text": [
      "Early stopping, best iteration is:\n",
      "[118]\tvalid_0's binary_logloss: 0.582616\tvalid_1's binary_logloss: 0.662463\n",
      "Training until validation scores don't improve for 100 rounds\n"
     ]
    },
    {
     "name": "stderr",
     "output_type": "stream",
     "text": [
      "bagging, val_score: 0.657492: 100%|####################################################| 10/10 [00:02<00:00,  3.28it/s]\u001b[32m[I 2020-12-11 06:02:26,356]\u001b[0m Trial 36 finished with value: 0.6592011550992659 and parameters: {'bagging_fraction': 0.86604182759865, 'bagging_freq': 5}. Best is trial 29 with value: 0.6591339001523805.\u001b[0m\n",
      "bagging, val_score: 0.657492: 100%|####################################################| 10/10 [00:02<00:00,  3.49it/s]\n",
      "feature_fraction_stage2, val_score: 0.657492:   0%|                                              | 0/6 [00:00<?, ?it/s]"
     ]
    },
    {
     "name": "stdout",
     "output_type": "stream",
     "text": [
      "Early stopping, best iteration is:\n",
      "[95]\tvalid_0's binary_logloss: 0.591174\tvalid_1's binary_logloss: 0.659201\n",
      "Training until validation scores don't improve for 100 rounds\n"
     ]
    },
    {
     "name": "stderr",
     "output_type": "stream",
     "text": [
      "feature_fraction_stage2, val_score: 0.657492:  17%|######3                               | 1/6 [00:00<00:01,  3.40it/s]\u001b[32m[I 2020-12-11 06:02:26,655]\u001b[0m Trial 37 finished with value: 0.657492092377284 and parameters: {'feature_fraction': 0.7799999999999999}. Best is trial 37 with value: 0.657492092377284.\u001b[0m\n",
      "feature_fraction_stage2, val_score: 0.657492:  17%|######3                               | 1/6 [00:00<00:01,  3.40it/s]"
     ]
    },
    {
     "name": "stdout",
     "output_type": "stream",
     "text": [
      "Early stopping, best iteration is:\n",
      "[118]\tvalid_0's binary_logloss: 0.580916\tvalid_1's binary_logloss: 0.657492\n",
      "Training until validation scores don't improve for 100 rounds\n"
     ]
    },
    {
     "name": "stderr",
     "output_type": "stream",
     "text": [
      "feature_fraction_stage2, val_score: 0.657492:  33%|############6                         | 2/6 [00:00<00:01,  3.47it/s]\u001b[32m[I 2020-12-11 06:02:26,929]\u001b[0m Trial 38 finished with value: 0.657492092377284 and parameters: {'feature_fraction': 0.716}. Best is trial 37 with value: 0.657492092377284.\u001b[0m\n",
      "feature_fraction_stage2, val_score: 0.657492:  33%|############6                         | 2/6 [00:00<00:01,  3.47it/s]"
     ]
    },
    {
     "name": "stdout",
     "output_type": "stream",
     "text": [
      "Early stopping, best iteration is:\n",
      "[118]\tvalid_0's binary_logloss: 0.580916\tvalid_1's binary_logloss: 0.657492\n",
      "Training until validation scores don't improve for 100 rounds\n"
     ]
    },
    {
     "name": "stderr",
     "output_type": "stream",
     "text": [
      "feature_fraction_stage2, val_score: 0.657492:  50%|###################                   | 3/6 [00:00<00:00,  3.66it/s]\u001b[32m[I 2020-12-11 06:02:27,168]\u001b[0m Trial 39 finished with value: 0.657492092377284 and parameters: {'feature_fraction': 0.6839999999999999}. Best is trial 37 with value: 0.657492092377284.\u001b[0m\n",
      "feature_fraction_stage2, val_score: 0.657492:  50%|###################                   | 3/6 [00:00<00:00,  3.66it/s]"
     ]
    },
    {
     "name": "stdout",
     "output_type": "stream",
     "text": [
      "Early stopping, best iteration is:\n",
      "[118]\tvalid_0's binary_logloss: 0.580916\tvalid_1's binary_logloss: 0.657492\n",
      "Training until validation scores don't improve for 100 rounds\n"
     ]
    },
    {
     "name": "stderr",
     "output_type": "stream",
     "text": [
      "feature_fraction_stage2, val_score: 0.657492:  67%|#########################3            | 4/6 [00:01<00:00,  3.83it/s]\u001b[32m[I 2020-12-11 06:02:27,400]\u001b[0m Trial 40 finished with value: 0.657492092377284 and parameters: {'feature_fraction': 0.748}. Best is trial 37 with value: 0.657492092377284.\u001b[0m\n",
      "feature_fraction_stage2, val_score: 0.657492:  67%|#########################3            | 4/6 [00:01<00:00,  3.83it/s]"
     ]
    },
    {
     "name": "stdout",
     "output_type": "stream",
     "text": [
      "Early stopping, best iteration is:\n",
      "[118]\tvalid_0's binary_logloss: 0.580916\tvalid_1's binary_logloss: 0.657492\n",
      "Training until validation scores don't improve for 100 rounds\n",
      "Early stopping, best iteration is:\n",
      "[115]\tvalid_0's binary_logloss: 0.58632\tvalid_1's binary_logloss: 0.659123"
     ]
    },
    {
     "name": "stderr",
     "output_type": "stream",
     "text": [
      "feature_fraction_stage2, val_score: 0.657492:  83%|###############################6      | 5/6 [00:01<00:00,  4.08it/s]\u001b[32m[I 2020-12-11 06:02:27,609]\u001b[0m Trial 41 finished with value: 0.65912283329455 and parameters: {'feature_fraction': 0.62}. Best is trial 37 with value: 0.657492092377284.\u001b[0m\n",
      "feature_fraction_stage2, val_score: 0.657492:  83%|###############################6      | 5/6 [00:01<00:00,  4.08it/s]"
     ]
    },
    {
     "name": "stdout",
     "output_type": "stream",
     "text": [
      "\n",
      "Training until validation scores don't improve for 100 rounds\n",
      "Early stopping, best iteration is:\n",
      "[118]\tvalid_0's binary_logloss: 0.580916\tvalid_1's binary_logloss: 0.657492"
     ]
    },
    {
     "name": "stderr",
     "output_type": "stream",
     "text": [
      "feature_fraction_stage2, val_score: 0.657492: 100%|######################################| 6/6 [00:01<00:00,  4.21it/s]\u001b[32m[I 2020-12-11 06:02:27,827]\u001b[0m Trial 42 finished with value: 0.657492092377284 and parameters: {'feature_fraction': 0.652}. Best is trial 37 with value: 0.657492092377284.\u001b[0m\n",
      "feature_fraction_stage2, val_score: 0.657492: 100%|######################################| 6/6 [00:01<00:00,  4.09it/s]\n",
      "regularization_factors, val_score: 0.657492:   0%|                                              | 0/20 [00:00<?, ?it/s]"
     ]
    },
    {
     "name": "stdout",
     "output_type": "stream",
     "text": [
      "\n",
      "Training until validation scores don't improve for 100 rounds\n"
     ]
    },
    {
     "name": "stderr",
     "output_type": "stream",
     "text": [
      "regularization_factors, val_score: 0.657492:   5%|#9                                    | 1/20 [00:00<00:05,  3.17it/s]\u001b[32m[I 2020-12-11 06:02:28,147]\u001b[0m Trial 43 finished with value: 0.6586868971235382 and parameters: {'lambda_l1': 0.001468729001676333, 'lambda_l2': 0.011502075928286242}. Best is trial 43 with value: 0.6586868971235382.\u001b[0m\n",
      "regularization_factors, val_score: 0.657492:   5%|#9                                    | 1/20 [00:00<00:05,  3.17it/s]"
     ]
    },
    {
     "name": "stdout",
     "output_type": "stream",
     "text": [
      "Early stopping, best iteration is:\n",
      "[126]\tvalid_0's binary_logloss: 0.576509\tvalid_1's binary_logloss: 0.658687\n",
      "Training until validation scores don't improve for 100 rounds\n"
     ]
    },
    {
     "name": "stderr",
     "output_type": "stream",
     "text": [
      "regularization_factors, val_score: 0.657489:  10%|###8                                  | 2/20 [00:00<00:05,  3.36it/s]\u001b[32m[I 2020-12-11 06:02:28,405]\u001b[0m Trial 44 finished with value: 0.6574890979613714 and parameters: {'lambda_l1': 8.040679215405663e-08, 'lambda_l2': 1.7249935617121615e-08}. Best is trial 44 with value: 0.6574890979613714.\u001b[0m\n",
      "regularization_factors, val_score: 0.657489:  10%|###8                                  | 2/20 [00:00<00:05,  3.36it/s]"
     ]
    },
    {
     "name": "stdout",
     "output_type": "stream",
     "text": [
      "Early stopping, best iteration is:\n",
      "[118]\tvalid_0's binary_logloss: 0.580916\tvalid_1's binary_logloss: 0.657489\n",
      "Training until validation scores don't improve for 100 rounds\n"
     ]
    },
    {
     "name": "stderr",
     "output_type": "stream",
     "text": [
      "regularization_factors, val_score: 0.657489:  15%|#####7                                | 3/20 [00:00<00:04,  3.48it/s]\u001b[32m[I 2020-12-11 06:02:28,669]\u001b[0m Trial 45 finished with value: 0.657492490586629 and parameters: {'lambda_l1': 2.5987361568327803e-08, 'lambda_l2': 1.4677855695770953e-08}. Best is trial 44 with value: 0.6574890979613714.\u001b[0m\n",
      "regularization_factors, val_score: 0.657489:  15%|#####7                                | 3/20 [00:00<00:04,  3.48it/s]"
     ]
    },
    {
     "name": "stdout",
     "output_type": "stream",
     "text": [
      "Early stopping, best iteration is:\n",
      "[118]\tvalid_0's binary_logloss: 0.580916\tvalid_1's binary_logloss: 0.657492\n",
      "Training until validation scores don't improve for 100 rounds\n"
     ]
    },
    {
     "name": "stderr",
     "output_type": "stream",
     "text": [
      "regularization_factors, val_score: 0.657478:  20%|#######6                              | 4/20 [00:01<00:04,  3.59it/s]\u001b[32m[I 2020-12-11 06:02:28,927]\u001b[0m Trial 46 finished with value: 0.6574783409416322 and parameters: {'lambda_l1': 2.5141958847072593e-08, 'lambda_l2': 1.737560825483342e-08}. Best is trial 46 with value: 0.6574783409416322.\u001b[0m\n",
      "regularization_factors, val_score: 0.657478:  20%|#######6                              | 4/20 [00:01<00:04,  3.59it/s]"
     ]
    },
    {
     "name": "stdout",
     "output_type": "stream",
     "text": [
      "Early stopping, best iteration is:\n",
      "[118]\tvalid_0's binary_logloss: 0.580916\tvalid_1's binary_logloss: 0.657478\n",
      "Training until validation scores don't improve for 100 rounds\n"
     ]
    },
    {
     "name": "stderr",
     "output_type": "stream",
     "text": [
      "regularization_factors, val_score: 0.657478:  25%|#########5                            | 5/20 [00:01<00:04,  3.61it/s]\u001b[32m[I 2020-12-11 06:02:29,200]\u001b[0m Trial 47 finished with value: 0.6574783409443363 and parameters: {'lambda_l1': 2.153513351682186e-08, 'lambda_l2': 1.4677227033056825e-08}. Best is trial 46 with value: 0.6574783409416322.\u001b[0m\n",
      "regularization_factors, val_score: 0.657478:  25%|#########5                            | 5/20 [00:01<00:04,  3.61it/s]"
     ]
    },
    {
     "name": "stdout",
     "output_type": "stream",
     "text": [
      "Early stopping, best iteration is:\n",
      "[118]\tvalid_0's binary_logloss: 0.580916\tvalid_1's binary_logloss: 0.657478\n",
      "Training until validation scores don't improve for 100 rounds\n"
     ]
    },
    {
     "name": "stderr",
     "output_type": "stream",
     "text": [
      "regularization_factors, val_score: 0.657478:  30%|###########4                          | 6/20 [00:01<00:03,  3.69it/s]\u001b[32m[I 2020-12-11 06:02:29,456]\u001b[0m Trial 48 finished with value: 0.6574887801663516 and parameters: {'lambda_l1': 1.2046808366885759e-08, 'lambda_l2': 1.0481059013688713e-08}. Best is trial 46 with value: 0.6574783409416322.\u001b[0m\n",
      "regularization_factors, val_score: 0.657478:  30%|###########4                          | 6/20 [00:01<00:03,  3.69it/s]"
     ]
    },
    {
     "name": "stdout",
     "output_type": "stream",
     "text": [
      "Early stopping, best iteration is:\n",
      "[118]\tvalid_0's binary_logloss: 0.580916\tvalid_1's binary_logloss: 0.657489\n",
      "Training until validation scores don't improve for 100 rounds\n"
     ]
    },
    {
     "name": "stderr",
     "output_type": "stream",
     "text": [
      "regularization_factors, val_score: 0.657478:  35%|#############3                        | 7/20 [00:01<00:03,  3.74it/s]\u001b[32m[I 2020-12-11 06:02:29,718]\u001b[0m Trial 49 finished with value: 0.6574949467586844 and parameters: {'lambda_l1': 1.1808140753867668e-08, 'lambda_l2': 1.1397463302300134e-08}. Best is trial 46 with value: 0.6574783409416322.\u001b[0m\n",
      "regularization_factors, val_score: 0.657478:  35%|#############3                        | 7/20 [00:01<00:03,  3.74it/s]"
     ]
    },
    {
     "name": "stdout",
     "output_type": "stream",
     "text": [
      "Early stopping, best iteration is:\n",
      "[118]\tvalid_0's binary_logloss: 0.580916\tvalid_1's binary_logloss: 0.657495\n",
      "Training until validation scores don't improve for 100 rounds\n"
     ]
    },
    {
     "name": "stderr",
     "output_type": "stream",
     "text": [
      "regularization_factors, val_score: 0.657478:  40%|###############2                      | 8/20 [00:02<00:03,  3.74it/s]\u001b[32m[I 2020-12-11 06:02:29,985]\u001b[0m Trial 50 finished with value: 0.6574865081867564 and parameters: {'lambda_l1': 1.9627558547847924e-08, 'lambda_l2': 1.603126116333253e-08}. Best is trial 46 with value: 0.6574783409416322.\u001b[0m\n",
      "regularization_factors, val_score: 0.657478:  40%|###############2                      | 8/20 [00:02<00:03,  3.74it/s]"
     ]
    },
    {
     "name": "stdout",
     "output_type": "stream",
     "text": [
      "Early stopping, best iteration is:\n",
      "[118]\tvalid_0's binary_logloss: 0.580916\tvalid_1's binary_logloss: 0.657487\n",
      "Training until validation scores don't improve for 100 rounds\n"
     ]
    },
    {
     "name": "stderr",
     "output_type": "stream",
     "text": [
      "regularization_factors, val_score: 0.657478:  45%|#################1                    | 9/20 [00:02<00:03,  3.54it/s]\u001b[32m[I 2020-12-11 06:02:30,303]\u001b[0m Trial 51 finished with value: 0.6574821942353415 and parameters: {'lambda_l1': 2.3211053799452204e-08, 'lambda_l2': 1.4314326371098824e-08}. Best is trial 46 with value: 0.6574783409416322.\u001b[0m\n",
      "regularization_factors, val_score: 0.657478:  45%|#################1                    | 9/20 [00:02<00:03,  3.54it/s]"
     ]
    },
    {
     "name": "stdout",
     "output_type": "stream",
     "text": [
      "Early stopping, best iteration is:\n",
      "[118]\tvalid_0's binary_logloss: 0.580916\tvalid_1's binary_logloss: 0.657482\n",
      "Training until validation scores don't improve for 100 rounds\n"
     ]
    },
    {
     "name": "stderr",
     "output_type": "stream",
     "text": [
      "regularization_factors, val_score: 0.657478:  50%|##################5                  | 10/20 [00:02<00:02,  3.46it/s]\u001b[32m[I 2020-12-11 06:02:30,605]\u001b[0m Trial 52 finished with value: 0.6574783409471581 and parameters: {'lambda_l1': 1.6260504290255394e-08, 'lambda_l2': 1.3697161065774987e-08}. Best is trial 46 with value: 0.6574783409416322.\u001b[0m\n",
      "regularization_factors, val_score: 0.657478:  50%|##################5                  | 10/20 [00:02<00:02,  3.46it/s]"
     ]
    },
    {
     "name": "stdout",
     "output_type": "stream",
     "text": [
      "Early stopping, best iteration is:\n",
      "[118]\tvalid_0's binary_logloss: 0.580916\tvalid_1's binary_logloss: 0.657478\n",
      "Training until validation scores don't improve for 100 rounds\n"
     ]
    },
    {
     "name": "stderr",
     "output_type": "stream",
     "text": [
      "regularization_factors, val_score: 0.657478:  55%|####################3                | 11/20 [00:03<00:02,  3.30it/s]\u001b[32m[I 2020-12-11 06:02:30,941]\u001b[0m Trial 53 finished with value: 0.6574865081861222 and parameters: {'lambda_l1': 1.6309439956029774e-08, 'lambda_l2': 1.7976290257254317e-08}. Best is trial 46 with value: 0.6574783409416322.\u001b[0m\n",
      "regularization_factors, val_score: 0.657478:  55%|####################3                | 11/20 [00:03<00:02,  3.30it/s]"
     ]
    },
    {
     "name": "stdout",
     "output_type": "stream",
     "text": [
      "Early stopping, best iteration is:\n",
      "[118]\tvalid_0's binary_logloss: 0.580916\tvalid_1's binary_logloss: 0.657487\n",
      "Training until validation scores don't improve for 100 rounds\n"
     ]
    },
    {
     "name": "stderr",
     "output_type": "stream",
     "text": [
      "regularization_factors, val_score: 0.657478:  60%|######################2              | 12/20 [00:03<00:02,  3.25it/s]\u001b[32m[I 2020-12-11 06:02:31,261]\u001b[0m Trial 54 finished with value: 0.6574844263703581 and parameters: {'lambda_l1': 2.957982037156027e-08, 'lambda_l2': 2.557166610534719e-08}. Best is trial 46 with value: 0.6574783409416322.\u001b[0m\n",
      "regularization_factors, val_score: 0.657478:  60%|######################2              | 12/20 [00:03<00:02,  3.25it/s]"
     ]
    },
    {
     "name": "stdout",
     "output_type": "stream",
     "text": [
      "Early stopping, best iteration is:\n",
      "[118]\tvalid_0's binary_logloss: 0.580916\tvalid_1's binary_logloss: 0.657484\n",
      "Training until validation scores don't improve for 100 rounds\n"
     ]
    },
    {
     "name": "stderr",
     "output_type": "stream",
     "text": [
      "regularization_factors, val_score: 0.657478:  65%|########################             | 13/20 [00:03<00:02,  3.19it/s]\u001b[32m[I 2020-12-11 06:02:31,588]\u001b[0m Trial 55 finished with value: 0.6574844262417713 and parameters: {'lambda_l1': 2.738086980541471e-07, 'lambda_l2': 2.8683103094440676e-07}. Best is trial 46 with value: 0.6574783409416322.\u001b[0m\n",
      "regularization_factors, val_score: 0.657478:  65%|########################             | 13/20 [00:03<00:02,  3.19it/s]"
     ]
    },
    {
     "name": "stdout",
     "output_type": "stream",
     "text": [
      "Early stopping, best iteration is:\n",
      "[118]\tvalid_0's binary_logloss: 0.580916\tvalid_1's binary_logloss: 0.657484\n",
      "Training until validation scores don't improve for 100 rounds\n"
     ]
    },
    {
     "name": "stderr",
     "output_type": "stream",
     "text": [
      "regularization_factors, val_score: 0.657478:  70%|#########################9           | 14/20 [00:04<00:01,  3.08it/s]\u001b[32m[I 2020-12-11 06:02:31,940]\u001b[0m Trial 56 finished with value: 0.6574844252809346 and parameters: {'lambda_l1': 2.5892045051244345e-06, 'lambda_l2': 8.596162574976581e-07}. Best is trial 46 with value: 0.6574783409416322.\u001b[0m\n",
      "regularization_factors, val_score: 0.657478:  70%|#########################9           | 14/20 [00:04<00:01,  3.08it/s]"
     ]
    },
    {
     "name": "stdout",
     "output_type": "stream",
     "text": [
      "Early stopping, best iteration is:\n",
      "[118]\tvalid_0's binary_logloss: 0.580916\tvalid_1's binary_logloss: 0.657484\n",
      "Training until validation scores don't improve for 100 rounds\n"
     ]
    },
    {
     "name": "stderr",
     "output_type": "stream",
     "text": [
      "regularization_factors, val_score: 0.657478:  75%|###########################7         | 15/20 [00:04<00:01,  3.09it/s]\u001b[32m[I 2020-12-11 06:02:32,259]\u001b[0m Trial 57 finished with value: 0.6574844229688761 and parameters: {'lambda_l1': 7.85114071152122e-06, 'lambda_l2': 2.893896211226644e-06}. Best is trial 46 with value: 0.6574783409416322.\u001b[0m\n",
      "regularization_factors, val_score: 0.657478:  75%|###########################7         | 15/20 [00:04<00:01,  3.09it/s]"
     ]
    },
    {
     "name": "stdout",
     "output_type": "stream",
     "text": [
      "Early stopping, best iteration is:\n",
      "[118]\tvalid_0's binary_logloss: 0.580916\tvalid_1's binary_logloss: 0.657484\n",
      "Training until validation scores don't improve for 100 rounds\n"
     ]
    },
    {
     "name": "stderr",
     "output_type": "stream",
     "text": [
      "regularization_factors, val_score: 0.657478:  80%|#############################6       | 16/20 [00:04<00:01,  3.18it/s]\u001b[32m[I 2020-12-11 06:02:32,553]\u001b[0m Trial 58 finished with value: 0.657486505515891 and parameters: {'lambda_l1': 5.5601174543006945e-06, 'lambda_l2': 4.8113940849478014e-06}. Best is trial 46 with value: 0.6574783409416322.\u001b[0m\n",
      "regularization_factors, val_score: 0.657478:  80%|#############################6       | 16/20 [00:04<00:01,  3.18it/s]"
     ]
    },
    {
     "name": "stdout",
     "output_type": "stream",
     "text": [
      "Early stopping, best iteration is:\n",
      "[118]\tvalid_0's binary_logloss: 0.580916\tvalid_1's binary_logloss: 0.657487\n",
      "Training until validation scores don't improve for 100 rounds\n"
     ]
    },
    {
     "name": "stderr",
     "output_type": "stream",
     "text": [
      "regularization_factors, val_score: 0.657478:  85%|###############################4     | 17/20 [00:05<00:00,  3.20it/s]\u001b[32m[I 2020-12-11 06:02:32,860]\u001b[0m Trial 59 finished with value: 0.6574844216638965 and parameters: {'lambda_l1': 1.082297859961627e-05, 'lambda_l2': 4.5214663753916455e-06}. Best is trial 46 with value: 0.6574783409416322.\u001b[0m\n",
      "regularization_factors, val_score: 0.657478:  85%|###############################4     | 17/20 [00:05<00:00,  3.20it/s]"
     ]
    },
    {
     "name": "stdout",
     "output_type": "stream",
     "text": [
      "Early stopping, best iteration is:\n",
      "[118]\tvalid_0's binary_logloss: 0.580916\tvalid_1's binary_logloss: 0.657484\n",
      "Training until validation scores don't improve for 100 rounds\n"
     ]
    },
    {
     "name": "stderr",
     "output_type": "stream",
     "text": [
      "regularization_factors, val_score: 0.657478:  90%|#################################3   | 18/20 [00:05<00:00,  3.41it/s]\u001b[32m[I 2020-12-11 06:02:33,110]\u001b[0m Trial 60 finished with value: 0.6574843840873292 and parameters: {'lambda_l1': 8.776871132173551e-05, 'lambda_l2': 7.785520655787004e-05}. Best is trial 46 with value: 0.6574783409416322.\u001b[0m\n",
      "regularization_factors, val_score: 0.657478:  90%|#################################3   | 18/20 [00:05<00:00,  3.41it/s]"
     ]
    },
    {
     "name": "stdout",
     "output_type": "stream",
     "text": [
      "Early stopping, best iteration is:\n",
      "[118]\tvalid_0's binary_logloss: 0.580917\tvalid_1's binary_logloss: 0.657484\n",
      "Training until validation scores don't improve for 100 rounds\n"
     ]
    },
    {
     "name": "stderr",
     "output_type": "stream",
     "text": [
      "regularization_factors, val_score: 0.657478:  95%|###################################1 | 19/20 [00:05<00:00,  3.37it/s]\u001b[32m[I 2020-12-11 06:02:33,413]\u001b[0m Trial 61 finished with value: 0.657479842089564 and parameters: {'lambda_l1': 6.691337746660402e-05, 'lambda_l2': 7.457398471369377e-05}. Best is trial 46 with value: 0.6574783409416322.\u001b[0m\n",
      "regularization_factors, val_score: 0.657478:  95%|###################################1 | 19/20 [00:05<00:00,  3.37it/s]"
     ]
    },
    {
     "name": "stdout",
     "output_type": "stream",
     "text": [
      "Early stopping, best iteration is:\n",
      "[118]\tvalid_0's binary_logloss: 0.580917\tvalid_1's binary_logloss: 0.65748\n",
      "Training until validation scores don't improve for 100 rounds\n"
     ]
    },
    {
     "name": "stderr",
     "output_type": "stream",
     "text": [
      "regularization_factors, val_score: 0.657478: 100%|#####################################| 20/20 [00:05<00:00,  3.25it/s]\u001b[32m[I 2020-12-11 06:02:33,748]\u001b[0m Trial 62 finished with value: 0.65749189687163 and parameters: {'lambda_l1': 7.428122072224734e-05, 'lambda_l2': 0.000176912893605902}. Best is trial 46 with value: 0.6574783409416322.\u001b[0m\n",
      "regularization_factors, val_score: 0.657478: 100%|#####################################| 20/20 [00:05<00:00,  3.38it/s]\n",
      "min_data_in_leaf, val_score: 0.657478:   0%|                                                     | 0/5 [00:00<?, ?it/s]"
     ]
    },
    {
     "name": "stdout",
     "output_type": "stream",
     "text": [
      "Early stopping, best iteration is:\n",
      "[118]\tvalid_0's binary_logloss: 0.580918\tvalid_1's binary_logloss: 0.657492\n",
      "Training until validation scores don't improve for 100 rounds\n"
     ]
    },
    {
     "name": "stderr",
     "output_type": "stream",
     "text": [
      "min_data_in_leaf, val_score: 0.657478:  20%|#########                                    | 1/5 [00:00<00:01,  3.22it/s]\u001b[32m[I 2020-12-11 06:02:34,064]\u001b[0m Trial 63 finished with value: 0.6592623964575113 and parameters: {'min_child_samples': 50}. Best is trial 63 with value: 0.6592623964575113.\u001b[0m\n",
      "min_data_in_leaf, val_score: 0.657478:  20%|#########                                    | 1/5 [00:00<00:01,  3.22it/s]"
     ]
    },
    {
     "name": "stdout",
     "output_type": "stream",
     "text": [
      "Early stopping, best iteration is:\n",
      "[128]\tvalid_0's binary_logloss: 0.58605\tvalid_1's binary_logloss: 0.659262\n",
      "Training until validation scores don't improve for 100 rounds\n",
      "Early stopping, best iteration is:\n",
      "[82]\tvalid_0's binary_logloss: 0.597375\tvalid_1's binary_logloss: 0.659438"
     ]
    },
    {
     "name": "stderr",
     "output_type": "stream",
     "text": [
      "min_data_in_leaf, val_score: 0.657478:  40%|##################                           | 2/5 [00:00<00:00,  3.58it/s]\u001b[32m[I 2020-12-11 06:02:34,271]\u001b[0m Trial 64 finished with value: 0.659437638544399 and parameters: {'min_child_samples': 10}. Best is trial 63 with value: 0.6592623964575113.\u001b[0m\n",
      "min_data_in_leaf, val_score: 0.657478:  40%|##################                           | 2/5 [00:00<00:00,  3.58it/s]"
     ]
    },
    {
     "name": "stdout",
     "output_type": "stream",
     "text": [
      "\n",
      "Training until validation scores don't improve for 100 rounds\n"
     ]
    },
    {
     "name": "stderr",
     "output_type": "stream",
     "text": [
      "min_data_in_leaf, val_score: 0.657478:  60%|###########################                  | 3/5 [00:00<00:00,  3.63it/s]\u001b[32m[I 2020-12-11 06:02:34,537]\u001b[0m Trial 65 finished with value: 0.6606710821867869 and parameters: {'min_child_samples': 5}. Best is trial 63 with value: 0.6592623964575113.\u001b[0m\n",
      "min_data_in_leaf, val_score: 0.657478:  60%|###########################                  | 3/5 [00:00<00:00,  3.63it/s]"
     ]
    },
    {
     "name": "stdout",
     "output_type": "stream",
     "text": [
      "Early stopping, best iteration is:\n",
      "[159]\tvalid_0's binary_logloss: 0.557363\tvalid_1's binary_logloss: 0.660671\n",
      "Training until validation scores don't improve for 100 rounds\n"
     ]
    },
    {
     "name": "stderr",
     "output_type": "stream",
     "text": [
      "min_data_in_leaf, val_score: 0.657478:  80%|####################################         | 4/5 [00:01<00:00,  3.44it/s]\u001b[32m[I 2020-12-11 06:02:34,864]\u001b[0m Trial 66 finished with value: 0.6596776622875601 and parameters: {'min_child_samples': 100}. Best is trial 63 with value: 0.6592623964575113.\u001b[0m\n",
      "min_data_in_leaf, val_score: 0.657478:  80%|####################################         | 4/5 [00:01<00:00,  3.44it/s]"
     ]
    },
    {
     "name": "stdout",
     "output_type": "stream",
     "text": [
      "Early stopping, best iteration is:\n",
      "[145]\tvalid_0's binary_logloss: 0.587189\tvalid_1's binary_logloss: 0.659678\n",
      "Training until validation scores don't improve for 100 rounds\n"
     ]
    },
    {
     "name": "stderr",
     "output_type": "stream",
     "text": [
      "min_data_in_leaf, val_score: 0.657478: 100%|#############################################| 5/5 [00:01<00:00,  3.63it/s]\u001b[32m[I 2020-12-11 06:02:35,105]\u001b[0m Trial 67 finished with value: 0.6604430472228324 and parameters: {'min_child_samples': 25}. Best is trial 63 with value: 0.6592623964575113.\u001b[0m\n",
      "min_data_in_leaf, val_score: 0.657478: 100%|#############################################| 5/5 [00:01<00:00,  3.70it/s]"
     ]
    },
    {
     "name": "stdout",
     "output_type": "stream",
     "text": [
      "Early stopping, best iteration is:\n",
      "[124]\tvalid_0's binary_logloss: 0.579592\tvalid_1's binary_logloss: 0.660443\n",
      "Best params: {'objective': 'binary', 'metric': 'binary_logloss', 'verbosity': -1, 'boosting_type': 'gbdt', 'feature_pre_filter': False, 'lambda_l1': 2.5141958847072593e-08, 'lambda_l2': 1.737560825483342e-08, 'num_leaves': 31, 'feature_fraction': 0.7, 'bagging_fraction': 1.0, 'bagging_freq': 0, 'min_child_samples': 20, 'num_iterations': 1000, 'early_stopping_round': 100}\n",
      "  Accuracy = 0.5992\n",
      "  Params: \n",
      "    objective: binary\n",
      "    metric: binary_logloss\n",
      "    verbosity: -1\n",
      "    boosting_type: gbdt\n",
      "    feature_pre_filter: False\n",
      "    lambda_l1: 2.5141958847072593e-08\n",
      "    lambda_l2: 1.737560825483342e-08\n",
      "    num_leaves: 31\n",
      "    feature_fraction: 0.7\n",
      "    bagging_fraction: 1.0\n",
      "    bagging_freq: 0\n",
      "    min_child_samples: 20\n",
      "    num_iterations: 1000\n",
      "    early_stopping_round: 100\n"
     ]
    },
    {
     "name": "stderr",
     "output_type": "stream",
     "text": [
      "\n"
     ]
    }
   ],
   "source": [
    "  \n",
    "\"\"\"\n",
    "Optuna example that optimizes a classifier configuration for cancer dataset using LightGBM tuner.\n",
    "In this example, we optimize the validation log loss of cancer detection.\n",
    "\"\"\"\n",
    "\n",
    "import numpy as np\n",
    "import sklearn.datasets\n",
    "from sklearn.metrics import accuracy_score\n",
    "from sklearn.model_selection import train_test_split\n",
    "\n",
    "import optuna.integration.lightgbm as lgb\n",
    "\n",
    "\n",
    "if __name__ == \"__main__\":\n",
    "    train_x, val_x, train_y, val_y = train_test_split(X, y, test_size = 0.33, random_state = 42)\n",
    "    dtrain = lgb.Dataset(train_x, label=train_y)\n",
    "    dval = lgb.Dataset(val_x, label=val_y)\n",
    "\n",
    "    params = {\n",
    "        \"objective\": \"binary\",\n",
    "        \"metric\": \"binary_logloss\",\n",
    "        \"verbosity\": -1,\n",
    "        \"boosting_type\": \"gbdt\",\n",
    "    }\n",
    "\n",
    "    model = lgb.train(\n",
    "        params, dtrain, valid_sets=[dtrain, dval], verbose_eval=1000, early_stopping_rounds=100\n",
    "    )\n",
    "\n",
    "    prediction = np.rint(model.predict(val_x, num_iteration=model.best_iteration))\n",
    "    accuracy = accuracy_score(val_y, prediction)\n",
    "\n",
    "    best_params = model.params\n",
    "    print(\"Best params:\", best_params)\n",
    "    print(\"  Accuracy = {}\".format(accuracy))\n",
    "    print(\"  Params: \")\n",
    "    for key, value in best_params.items():\n",
    "        print(\"    {}: {}\".format(key, value))"
   ]
  },
  {
   "cell_type": "code",
   "execution_count": null,
   "metadata": {},
   "outputs": [],
   "source": []
  },
  {
   "cell_type": "code",
   "execution_count": null,
   "metadata": {},
   "outputs": [],
   "source": []
  }
 ],
 "metadata": {
  "kernelspec": {
   "display_name": "Python 3",
   "language": "python",
   "name": "python3"
  },
  "language_info": {
   "codemirror_mode": {
    "name": "ipython",
    "version": 3
   },
   "file_extension": ".py",
   "mimetype": "text/x-python",
   "name": "python",
   "nbconvert_exporter": "python",
   "pygments_lexer": "ipython3",
   "version": "3.8.3"
  }
 },
 "nbformat": 4,
 "nbformat_minor": 4
}
